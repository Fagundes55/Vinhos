{
 "cells": [
  {
   "cell_type": "code",
   "execution_count": 1,
   "metadata": {},
   "outputs": [
    {
     "name": "stdout",
     "output_type": "stream",
     "text": [
      "/home/fagundes/Portfolio/Projetos VSCode/Red\n"
     ]
    }
   ],
   "source": [
    "!pwd"
   ]
  },
  {
   "cell_type": "code",
   "execution_count": 2,
   "metadata": {},
   "outputs": [],
   "source": [
    "import pandas as pd\n",
    "import numpy as np\n",
    "import matplotlib.pyplot as plt\n",
    "import seaborn as sns\n",
    "import plotly.express as px"
   ]
  },
  {
   "cell_type": "code",
   "execution_count": 16,
   "metadata": {},
   "outputs": [
    {
     "data": {
      "text/html": [
       "<div>\n",
       "<style scoped>\n",
       "    .dataframe tbody tr th:only-of-type {\n",
       "        vertical-align: middle;\n",
       "    }\n",
       "\n",
       "    .dataframe tbody tr th {\n",
       "        vertical-align: top;\n",
       "    }\n",
       "\n",
       "    .dataframe thead th {\n",
       "        text-align: right;\n",
       "    }\n",
       "</style>\n",
       "<table border=\"1\" class=\"dataframe\">\n",
       "  <thead>\n",
       "    <tr style=\"text-align: right;\">\n",
       "      <th></th>\n",
       "      <th>Name</th>\n",
       "      <th>Country</th>\n",
       "      <th>Region</th>\n",
       "      <th>Winery</th>\n",
       "      <th>Rating</th>\n",
       "      <th>NumberOfRatings</th>\n",
       "      <th>Price</th>\n",
       "      <th>Year</th>\n",
       "    </tr>\n",
       "  </thead>\n",
       "  <tbody>\n",
       "    <tr>\n",
       "      <th>0</th>\n",
       "      <td>Pomerol 2011</td>\n",
       "      <td>France</td>\n",
       "      <td>Pomerol</td>\n",
       "      <td>Château La Providence</td>\n",
       "      <td>4.2</td>\n",
       "      <td>100</td>\n",
       "      <td>95.00</td>\n",
       "      <td>2011</td>\n",
       "    </tr>\n",
       "    <tr>\n",
       "      <th>1</th>\n",
       "      <td>Lirac 2017</td>\n",
       "      <td>France</td>\n",
       "      <td>Lirac</td>\n",
       "      <td>Château Mont-Redon</td>\n",
       "      <td>4.3</td>\n",
       "      <td>100</td>\n",
       "      <td>15.50</td>\n",
       "      <td>2017</td>\n",
       "    </tr>\n",
       "    <tr>\n",
       "      <th>2</th>\n",
       "      <td>Erta e China Rosso di Toscana 2015</td>\n",
       "      <td>Italy</td>\n",
       "      <td>Toscana</td>\n",
       "      <td>Renzo Masi</td>\n",
       "      <td>3.9</td>\n",
       "      <td>100</td>\n",
       "      <td>7.45</td>\n",
       "      <td>2015</td>\n",
       "    </tr>\n",
       "    <tr>\n",
       "      <th>3</th>\n",
       "      <td>Bardolino 2019</td>\n",
       "      <td>Italy</td>\n",
       "      <td>Bardolino</td>\n",
       "      <td>Cavalchina</td>\n",
       "      <td>3.5</td>\n",
       "      <td>100</td>\n",
       "      <td>8.72</td>\n",
       "      <td>2019</td>\n",
       "    </tr>\n",
       "    <tr>\n",
       "      <th>4</th>\n",
       "      <td>Ried Scheibner Pinot Noir 2016</td>\n",
       "      <td>Austria</td>\n",
       "      <td>Carnuntum</td>\n",
       "      <td>Markowitsch</td>\n",
       "      <td>3.9</td>\n",
       "      <td>100</td>\n",
       "      <td>29.15</td>\n",
       "      <td>2016</td>\n",
       "    </tr>\n",
       "    <tr>\n",
       "      <th>...</th>\n",
       "      <td>...</td>\n",
       "      <td>...</td>\n",
       "      <td>...</td>\n",
       "      <td>...</td>\n",
       "      <td>...</td>\n",
       "      <td>...</td>\n",
       "      <td>...</td>\n",
       "      <td>...</td>\n",
       "    </tr>\n",
       "    <tr>\n",
       "      <th>8661</th>\n",
       "      <td>6th Sense Syrah 2016</td>\n",
       "      <td>United States</td>\n",
       "      <td>Lodi</td>\n",
       "      <td>Michael David Winery</td>\n",
       "      <td>3.8</td>\n",
       "      <td>994</td>\n",
       "      <td>16.47</td>\n",
       "      <td>2016</td>\n",
       "    </tr>\n",
       "    <tr>\n",
       "      <th>8662</th>\n",
       "      <td>Botrosecco Maremma Toscana 2016</td>\n",
       "      <td>Italy</td>\n",
       "      <td>Maremma Toscana</td>\n",
       "      <td>Le Mortelle</td>\n",
       "      <td>4.0</td>\n",
       "      <td>995</td>\n",
       "      <td>20.09</td>\n",
       "      <td>2016</td>\n",
       "    </tr>\n",
       "    <tr>\n",
       "      <th>8663</th>\n",
       "      <td>Haut-Médoc 2010</td>\n",
       "      <td>France</td>\n",
       "      <td>Haut-Médoc</td>\n",
       "      <td>Château Cambon La Pelouse</td>\n",
       "      <td>3.7</td>\n",
       "      <td>996</td>\n",
       "      <td>23.95</td>\n",
       "      <td>2010</td>\n",
       "    </tr>\n",
       "    <tr>\n",
       "      <th>8664</th>\n",
       "      <td>Shiraz 2019</td>\n",
       "      <td>Australia</td>\n",
       "      <td>South Eastern Australia</td>\n",
       "      <td>Yellow Tail</td>\n",
       "      <td>3.5</td>\n",
       "      <td>998</td>\n",
       "      <td>6.21</td>\n",
       "      <td>2019</td>\n",
       "    </tr>\n",
       "    <tr>\n",
       "      <th>8665</th>\n",
       "      <td>Portillo Cabernet Sauvignon 2016</td>\n",
       "      <td>Argentina</td>\n",
       "      <td>Tunuyán</td>\n",
       "      <td>Salentein</td>\n",
       "      <td>3.4</td>\n",
       "      <td>999</td>\n",
       "      <td>7.88</td>\n",
       "      <td>2016</td>\n",
       "    </tr>\n",
       "  </tbody>\n",
       "</table>\n",
       "<p>8666 rows × 8 columns</p>\n",
       "</div>"
      ],
      "text/plain": [
       "                                    Name        Country  \\\n",
       "0                           Pomerol 2011         France   \n",
       "1                             Lirac 2017         France   \n",
       "2     Erta e China Rosso di Toscana 2015          Italy   \n",
       "3                         Bardolino 2019          Italy   \n",
       "4         Ried Scheibner Pinot Noir 2016        Austria   \n",
       "...                                  ...            ...   \n",
       "8661                6th Sense Syrah 2016  United States   \n",
       "8662     Botrosecco Maremma Toscana 2016          Italy   \n",
       "8663                     Haut-Médoc 2010         France   \n",
       "8664                         Shiraz 2019      Australia   \n",
       "8665    Portillo Cabernet Sauvignon 2016      Argentina   \n",
       "\n",
       "                       Region                     Winery  Rating  \\\n",
       "0                     Pomerol      Château La Providence     4.2   \n",
       "1                       Lirac         Château Mont-Redon     4.3   \n",
       "2                     Toscana                 Renzo Masi     3.9   \n",
       "3                   Bardolino                 Cavalchina     3.5   \n",
       "4                   Carnuntum                Markowitsch     3.9   \n",
       "...                       ...                        ...     ...   \n",
       "8661                     Lodi       Michael David Winery     3.8   \n",
       "8662          Maremma Toscana                Le Mortelle     4.0   \n",
       "8663               Haut-Médoc  Château Cambon La Pelouse     3.7   \n",
       "8664  South Eastern Australia                Yellow Tail     3.5   \n",
       "8665                  Tunuyán                  Salentein     3.4   \n",
       "\n",
       "      NumberOfRatings  Price  Year  \n",
       "0                 100  95.00  2011  \n",
       "1                 100  15.50  2017  \n",
       "2                 100   7.45  2015  \n",
       "3                 100   8.72  2019  \n",
       "4                 100  29.15  2016  \n",
       "...               ...    ...   ...  \n",
       "8661              994  16.47  2016  \n",
       "8662              995  20.09  2016  \n",
       "8663              996  23.95  2010  \n",
       "8664              998   6.21  2019  \n",
       "8665              999   7.88  2016  \n",
       "\n",
       "[8666 rows x 8 columns]"
      ]
     },
     "execution_count": 16,
     "metadata": {},
     "output_type": "execute_result"
    }
   ],
   "source": [
    "df = pd.read_csv('Red.csv')\n",
    "df"
   ]
  },
  {
   "cell_type": "code",
   "execution_count": 21,
   "metadata": {},
   "outputs": [
    {
     "data": {
      "text/html": [
       "<div>\n",
       "<style scoped>\n",
       "    .dataframe tbody tr th:only-of-type {\n",
       "        vertical-align: middle;\n",
       "    }\n",
       "\n",
       "    .dataframe tbody tr th {\n",
       "        vertical-align: top;\n",
       "    }\n",
       "\n",
       "    .dataframe thead th {\n",
       "        text-align: right;\n",
       "    }\n",
       "</style>\n",
       "<table border=\"1\" class=\"dataframe\">\n",
       "  <thead>\n",
       "    <tr style=\"text-align: right;\">\n",
       "      <th></th>\n",
       "      <th>Name</th>\n",
       "      <th>Country</th>\n",
       "      <th>Region</th>\n",
       "      <th>Winery</th>\n",
       "      <th>Rating</th>\n",
       "      <th>Number_Of_Ratings</th>\n",
       "      <th>Price</th>\n",
       "      <th>Year</th>\n",
       "    </tr>\n",
       "  </thead>\n",
       "  <tbody>\n",
       "    <tr>\n",
       "      <th>0</th>\n",
       "      <td>Pomerol 2011</td>\n",
       "      <td>France</td>\n",
       "      <td>Pomerol</td>\n",
       "      <td>Château La Providence</td>\n",
       "      <td>4.2</td>\n",
       "      <td>100</td>\n",
       "      <td>95.00</td>\n",
       "      <td>2011</td>\n",
       "    </tr>\n",
       "    <tr>\n",
       "      <th>1</th>\n",
       "      <td>Lirac 2017</td>\n",
       "      <td>France</td>\n",
       "      <td>Lirac</td>\n",
       "      <td>Château Mont-Redon</td>\n",
       "      <td>4.3</td>\n",
       "      <td>100</td>\n",
       "      <td>15.50</td>\n",
       "      <td>2017</td>\n",
       "    </tr>\n",
       "    <tr>\n",
       "      <th>2</th>\n",
       "      <td>Erta e China Rosso di Toscana 2015</td>\n",
       "      <td>Italy</td>\n",
       "      <td>Toscana</td>\n",
       "      <td>Renzo Masi</td>\n",
       "      <td>3.9</td>\n",
       "      <td>100</td>\n",
       "      <td>7.45</td>\n",
       "      <td>2015</td>\n",
       "    </tr>\n",
       "    <tr>\n",
       "      <th>3</th>\n",
       "      <td>Bardolino 2019</td>\n",
       "      <td>Italy</td>\n",
       "      <td>Bardolino</td>\n",
       "      <td>Cavalchina</td>\n",
       "      <td>3.5</td>\n",
       "      <td>100</td>\n",
       "      <td>8.72</td>\n",
       "      <td>2019</td>\n",
       "    </tr>\n",
       "    <tr>\n",
       "      <th>4</th>\n",
       "      <td>Ried Scheibner Pinot Noir 2016</td>\n",
       "      <td>Austria</td>\n",
       "      <td>Carnuntum</td>\n",
       "      <td>Markowitsch</td>\n",
       "      <td>3.9</td>\n",
       "      <td>100</td>\n",
       "      <td>29.15</td>\n",
       "      <td>2016</td>\n",
       "    </tr>\n",
       "  </tbody>\n",
       "</table>\n",
       "</div>"
      ],
      "text/plain": [
       "                                 Name  Country     Region  \\\n",
       "0                        Pomerol 2011   France    Pomerol   \n",
       "1                          Lirac 2017   France      Lirac   \n",
       "2  Erta e China Rosso di Toscana 2015    Italy    Toscana   \n",
       "3                      Bardolino 2019    Italy  Bardolino   \n",
       "4      Ried Scheibner Pinot Noir 2016  Austria  Carnuntum   \n",
       "\n",
       "                  Winery  Rating  Number_Of_Ratings  Price  Year  \n",
       "0  Château La Providence     4.2                100  95.00  2011  \n",
       "1     Château Mont-Redon     4.3                100  15.50  2017  \n",
       "2             Renzo Masi     3.9                100   7.45  2015  \n",
       "3             Cavalchina     3.5                100   8.72  2019  \n",
       "4            Markowitsch     3.9                100  29.15  2016  "
      ]
     },
     "execution_count": 21,
     "metadata": {},
     "output_type": "execute_result"
    }
   ],
   "source": [
    "df.head()"
   ]
  },
  {
   "cell_type": "code",
   "execution_count": 20,
   "metadata": {},
   "outputs": [
    {
     "data": {
      "text/plain": [
       "Index(['Name', 'Country', 'Region', 'Winery', 'Rating', 'Number_Of_Ratings',\n",
       "       'Price', 'Year'],\n",
       "      dtype='object')"
      ]
     },
     "execution_count": 20,
     "metadata": {},
     "output_type": "execute_result"
    }
   ],
   "source": [
    "df.columns"
   ]
  },
  {
   "cell_type": "code",
   "execution_count": 19,
   "metadata": {},
   "outputs": [],
   "source": [
    "df.rename(columns={'NumberOfRatings':'Number_Of_Ratings'}, inplace=True)"
   ]
  },
  {
   "cell_type": "code",
   "execution_count": 22,
   "metadata": {},
   "outputs": [
    {
     "data": {
      "text/plain": [
       "(8666, 8)"
      ]
     },
     "execution_count": 22,
     "metadata": {},
     "output_type": "execute_result"
    }
   ],
   "source": [
    "df.shape"
   ]
  },
  {
   "cell_type": "code",
   "execution_count": 23,
   "metadata": {},
   "outputs": [
    {
     "name": "stdout",
     "output_type": "stream",
     "text": [
      "<class 'pandas.core.frame.DataFrame'>\n",
      "RangeIndex: 8666 entries, 0 to 8665\n",
      "Data columns (total 8 columns):\n",
      " #   Column             Non-Null Count  Dtype  \n",
      "---  ------             --------------  -----  \n",
      " 0   Name               8666 non-null   object \n",
      " 1   Country            8666 non-null   object \n",
      " 2   Region             8666 non-null   object \n",
      " 3   Winery             8666 non-null   object \n",
      " 4   Rating             8666 non-null   float64\n",
      " 5   Number_Of_Ratings  8666 non-null   int64  \n",
      " 6   Price              8666 non-null   float64\n",
      " 7   Year               8666 non-null   object \n",
      "dtypes: float64(2), int64(1), object(5)\n",
      "memory usage: 541.8+ KB\n"
     ]
    }
   ],
   "source": [
    "df.info()"
   ]
  },
  {
   "cell_type": "code",
   "execution_count": 24,
   "metadata": {},
   "outputs": [
    {
     "data": {
      "text/plain": [
       "Name                 0\n",
       "Country              0\n",
       "Region               0\n",
       "Winery               0\n",
       "Rating               0\n",
       "Number_Of_Ratings    0\n",
       "Price                0\n",
       "Year                 0\n",
       "dtype: int64"
      ]
     },
     "execution_count": 24,
     "metadata": {},
     "output_type": "execute_result"
    }
   ],
   "source": [
    "df.isnull().sum()"
   ]
  },
  {
   "cell_type": "code",
   "execution_count": 25,
   "metadata": {},
   "outputs": [
    {
     "data": {
      "text/html": [
       "<div>\n",
       "<style scoped>\n",
       "    .dataframe tbody tr th:only-of-type {\n",
       "        vertical-align: middle;\n",
       "    }\n",
       "\n",
       "    .dataframe tbody tr th {\n",
       "        vertical-align: top;\n",
       "    }\n",
       "\n",
       "    .dataframe thead th {\n",
       "        text-align: right;\n",
       "    }\n",
       "</style>\n",
       "<table border=\"1\" class=\"dataframe\">\n",
       "  <thead>\n",
       "    <tr style=\"text-align: right;\">\n",
       "      <th></th>\n",
       "      <th>Name</th>\n",
       "      <th>Country</th>\n",
       "      <th>Region</th>\n",
       "      <th>Winery</th>\n",
       "      <th>Rating</th>\n",
       "      <th>Number_Of_Ratings</th>\n",
       "      <th>Price</th>\n",
       "      <th>Year</th>\n",
       "    </tr>\n",
       "  </thead>\n",
       "  <tbody>\n",
       "    <tr>\n",
       "      <th>0</th>\n",
       "      <td>Pomerol 2011</td>\n",
       "      <td>France</td>\n",
       "      <td>Pomerol</td>\n",
       "      <td>Château La Providence</td>\n",
       "      <td>4.2</td>\n",
       "      <td>100</td>\n",
       "      <td>95.00</td>\n",
       "      <td>2011</td>\n",
       "    </tr>\n",
       "    <tr>\n",
       "      <th>1</th>\n",
       "      <td>Lirac 2017</td>\n",
       "      <td>France</td>\n",
       "      <td>Lirac</td>\n",
       "      <td>Château Mont-Redon</td>\n",
       "      <td>4.3</td>\n",
       "      <td>100</td>\n",
       "      <td>15.50</td>\n",
       "      <td>2017</td>\n",
       "    </tr>\n",
       "    <tr>\n",
       "      <th>2</th>\n",
       "      <td>Erta e China Rosso di Toscana 2015</td>\n",
       "      <td>Italy</td>\n",
       "      <td>Toscana</td>\n",
       "      <td>Renzo Masi</td>\n",
       "      <td>3.9</td>\n",
       "      <td>100</td>\n",
       "      <td>7.45</td>\n",
       "      <td>2015</td>\n",
       "    </tr>\n",
       "    <tr>\n",
       "      <th>3</th>\n",
       "      <td>Bardolino 2019</td>\n",
       "      <td>Italy</td>\n",
       "      <td>Bardolino</td>\n",
       "      <td>Cavalchina</td>\n",
       "      <td>3.5</td>\n",
       "      <td>100</td>\n",
       "      <td>8.72</td>\n",
       "      <td>2019</td>\n",
       "    </tr>\n",
       "    <tr>\n",
       "      <th>4</th>\n",
       "      <td>Ried Scheibner Pinot Noir 2016</td>\n",
       "      <td>Austria</td>\n",
       "      <td>Carnuntum</td>\n",
       "      <td>Markowitsch</td>\n",
       "      <td>3.9</td>\n",
       "      <td>100</td>\n",
       "      <td>29.15</td>\n",
       "      <td>2016</td>\n",
       "    </tr>\n",
       "  </tbody>\n",
       "</table>\n",
       "</div>"
      ],
      "text/plain": [
       "                                 Name  Country     Region  \\\n",
       "0                        Pomerol 2011   France    Pomerol   \n",
       "1                          Lirac 2017   France      Lirac   \n",
       "2  Erta e China Rosso di Toscana 2015    Italy    Toscana   \n",
       "3                      Bardolino 2019    Italy  Bardolino   \n",
       "4      Ried Scheibner Pinot Noir 2016  Austria  Carnuntum   \n",
       "\n",
       "                  Winery  Rating  Number_Of_Ratings  Price  Year  \n",
       "0  Château La Providence     4.2                100  95.00  2011  \n",
       "1     Château Mont-Redon     4.3                100  15.50  2017  \n",
       "2             Renzo Masi     3.9                100   7.45  2015  \n",
       "3             Cavalchina     3.5                100   8.72  2019  \n",
       "4            Markowitsch     3.9                100  29.15  2016  "
      ]
     },
     "execution_count": 25,
     "metadata": {},
     "output_type": "execute_result"
    }
   ],
   "source": [
    "df.head()"
   ]
  },
  {
   "cell_type": "code",
   "execution_count": 27,
   "metadata": {},
   "outputs": [
    {
     "data": {
      "text/plain": [
       "array(['France', 'Italy', 'Austria', 'New Zealand', 'Chile', 'Australia',\n",
       "       'South Africa', 'Spain', 'United States', 'Portugal', 'Hungary',\n",
       "       'Brazil', 'Argentina', 'Romania', 'Germany', 'Greece', 'Mexico',\n",
       "       'Moldova', 'Switzerland', 'Slovenia', 'Israel', 'Georgia',\n",
       "       'Lebanon', 'Uruguay', 'Turkey', 'Croatia', 'China', 'Slovakia',\n",
       "       'Bulgaria', 'Canada'], dtype=object)"
      ]
     },
     "execution_count": 27,
     "metadata": {},
     "output_type": "execute_result"
    }
   ],
   "source": [
    "df['Country'].unique()"
   ]
  },
  {
   "cell_type": "code",
   "execution_count": 28,
   "metadata": {},
   "outputs": [
    {
     "data": {
      "text/plain": [
       "30"
      ]
     },
     "execution_count": 28,
     "metadata": {},
     "output_type": "execute_result"
    }
   ],
   "source": [
    "len(df['Country'].unique())"
   ]
  },
  {
   "cell_type": "code",
   "execution_count": 42,
   "metadata": {},
   "outputs": [
    {
     "data": {
      "text/plain": [
       "array([4.2, 4.3, 3.9, 3.5, 3.7, 4. , 3.6, 4.1, 3.2, 3.8, 3.4, 2.9, 4.4,\n",
       "       3.3, 4.6, 4.5, 4.7, 3.1, 3. , 4.8, 2.8, 2.6, 2.7, 2.5])"
      ]
     },
     "execution_count": 42,
     "metadata": {},
     "output_type": "execute_result"
    }
   ],
   "source": [
    "df['Rating'].unique()"
   ]
  },
  {
   "cell_type": "code",
   "execution_count": 30,
   "metadata": {},
   "outputs": [
    {
     "data": {
      "text/plain": [
       "951"
      ]
     },
     "execution_count": 30,
     "metadata": {},
     "output_type": "execute_result"
    }
   ],
   "source": [
    "df['Rating'].argmax()"
   ]
  },
  {
   "cell_type": "code",
   "execution_count": 31,
   "metadata": {},
   "outputs": [
    {
     "data": {
      "text/plain": [
       "Name                 Barolo Riserva Monfortino 2013\n",
       "Country                                       Italy\n",
       "Region                                       Barolo\n",
       "Winery                             Giacomo Conterno\n",
       "Rating                                          4.8\n",
       "Number_Of_Ratings                               132\n",
       "Price                                        1115.5\n",
       "Year                                           2013\n",
       "Name: 951, dtype: object"
      ]
     },
     "execution_count": 31,
     "metadata": {},
     "output_type": "execute_result"
    }
   ],
   "source": [
    "df.iloc[951]"
   ]
  },
  {
   "cell_type": "code",
   "execution_count": 33,
   "metadata": {},
   "outputs": [
    {
     "data": {
      "text/plain": [
       "Name                 Cabernet Sauvignon 2016\n",
       "Country                               France\n",
       "Region                             Pays d'Oc\n",
       "Winery                               Fortant\n",
       "Rating                                   2.5\n",
       "Number_Of_Ratings                         40\n",
       "Price                                   8.29\n",
       "Year                                    2016\n",
       "Name: 4998, dtype: object"
      ]
     },
     "execution_count": 33,
     "metadata": {},
     "output_type": "execute_result"
    }
   ],
   "source": [
    "df.iloc[df['Rating'].argmin()]"
   ]
  },
  {
   "cell_type": "code",
   "execution_count": 35,
   "metadata": {},
   "outputs": [
    {
     "data": {
      "text/plain": [
       "count    8666.000000\n",
       "mean       39.145065\n",
       "std        84.936307\n",
       "min         3.550000\n",
       "25%        10.680000\n",
       "50%        18.200000\n",
       "75%        38.142500\n",
       "max      3410.790000\n",
       "Name: Price, dtype: float64"
      ]
     },
     "execution_count": 35,
     "metadata": {},
     "output_type": "execute_result"
    }
   ],
   "source": [
    "df['Price'].describe()"
   ]
  },
  {
   "cell_type": "code",
   "execution_count": 36,
   "metadata": {},
   "outputs": [
    {
     "data": {
      "text/plain": [
       "Name                 Pomerol 2012\n",
       "Country                    France\n",
       "Region                    Pomerol\n",
       "Winery                     Pétrus\n",
       "Rating                        4.7\n",
       "Number_Of_Ratings             204\n",
       "Price                     3410.79\n",
       "Year                         2012\n",
       "Name: 2344, dtype: object"
      ]
     },
     "execution_count": 36,
     "metadata": {},
     "output_type": "execute_result"
    }
   ],
   "source": [
    "df.iloc[df['Price'].argmax()]"
   ]
  },
  {
   "cell_type": "code",
   "execution_count": 44,
   "metadata": {},
   "outputs": [
    {
     "data": {
      "text/html": [
       "<div>\n",
       "<style scoped>\n",
       "    .dataframe tbody tr th:only-of-type {\n",
       "        vertical-align: middle;\n",
       "    }\n",
       "\n",
       "    .dataframe tbody tr th {\n",
       "        vertical-align: top;\n",
       "    }\n",
       "\n",
       "    .dataframe thead th {\n",
       "        text-align: right;\n",
       "    }\n",
       "</style>\n",
       "<table border=\"1\" class=\"dataframe\">\n",
       "  <thead>\n",
       "    <tr style=\"text-align: right;\">\n",
       "      <th></th>\n",
       "      <th>Name</th>\n",
       "      <th>Country</th>\n",
       "      <th>Region</th>\n",
       "      <th>Winery</th>\n",
       "      <th>Rating</th>\n",
       "      <th>Number_Of_Ratings</th>\n",
       "      <th>Price</th>\n",
       "      <th>Year</th>\n",
       "    </tr>\n",
       "  </thead>\n",
       "  <tbody>\n",
       "    <tr>\n",
       "      <th>0</th>\n",
       "      <td>Pomerol 2011</td>\n",
       "      <td>France</td>\n",
       "      <td>Pomerol</td>\n",
       "      <td>Château La Providence</td>\n",
       "      <td>4.2</td>\n",
       "      <td>100</td>\n",
       "      <td>95.00</td>\n",
       "      <td>2011</td>\n",
       "    </tr>\n",
       "    <tr>\n",
       "      <th>1</th>\n",
       "      <td>Lirac 2017</td>\n",
       "      <td>France</td>\n",
       "      <td>Lirac</td>\n",
       "      <td>Château Mont-Redon</td>\n",
       "      <td>4.3</td>\n",
       "      <td>100</td>\n",
       "      <td>15.50</td>\n",
       "      <td>2017</td>\n",
       "    </tr>\n",
       "    <tr>\n",
       "      <th>5</th>\n",
       "      <td>Gigondas (Nobles Terrasses) 2017</td>\n",
       "      <td>France</td>\n",
       "      <td>Gigondas</td>\n",
       "      <td>Vieux Clocher</td>\n",
       "      <td>3.7</td>\n",
       "      <td>100</td>\n",
       "      <td>19.90</td>\n",
       "      <td>2017</td>\n",
       "    </tr>\n",
       "    <tr>\n",
       "      <th>9</th>\n",
       "      <td>Tradition 2014</td>\n",
       "      <td>France</td>\n",
       "      <td>Minervois</td>\n",
       "      <td>Domaine des Aires Hautes</td>\n",
       "      <td>3.5</td>\n",
       "      <td>100</td>\n",
       "      <td>6.90</td>\n",
       "      <td>2014</td>\n",
       "    </tr>\n",
       "    <tr>\n",
       "      <th>12</th>\n",
       "      <td>Les Obriers de la Peira Terrasses du Larzac 2017</td>\n",
       "      <td>France</td>\n",
       "      <td>Terrasses du Larzac</td>\n",
       "      <td>La Pèira en Damaisèla</td>\n",
       "      <td>4.1</td>\n",
       "      <td>100</td>\n",
       "      <td>14.52</td>\n",
       "      <td>2017</td>\n",
       "    </tr>\n",
       "    <tr>\n",
       "      <th>...</th>\n",
       "      <td>...</td>\n",
       "      <td>...</td>\n",
       "      <td>...</td>\n",
       "      <td>...</td>\n",
       "      <td>...</td>\n",
       "      <td>...</td>\n",
       "      <td>...</td>\n",
       "      <td>...</td>\n",
       "    </tr>\n",
       "    <tr>\n",
       "      <th>8652</th>\n",
       "      <td>Saint-Émilion Grand Cru (Grand Cru Classé) 2016</td>\n",
       "      <td>France</td>\n",
       "      <td>Saint-Émilion Grand Cru</td>\n",
       "      <td>Château Cote de Baleau</td>\n",
       "      <td>4.0</td>\n",
       "      <td>99</td>\n",
       "      <td>34.97</td>\n",
       "      <td>2016</td>\n",
       "    </tr>\n",
       "    <tr>\n",
       "      <th>8653</th>\n",
       "      <td>Côtes de Castillon 2005</td>\n",
       "      <td>France</td>\n",
       "      <td>Castillon - Côtes de Bordeaux</td>\n",
       "      <td>Clos Les Lunelles</td>\n",
       "      <td>3.8</td>\n",
       "      <td>99</td>\n",
       "      <td>54.95</td>\n",
       "      <td>2005</td>\n",
       "    </tr>\n",
       "    <tr>\n",
       "      <th>8655</th>\n",
       "      <td>Côtes du Rhône 'Les Cranilles' 2017</td>\n",
       "      <td>France</td>\n",
       "      <td>Côtes-du-Rhône</td>\n",
       "      <td>Les Vins de Vienne - Cuilleron-Gaillard-Villard</td>\n",
       "      <td>3.7</td>\n",
       "      <td>99</td>\n",
       "      <td>10.50</td>\n",
       "      <td>2017</td>\n",
       "    </tr>\n",
       "    <tr>\n",
       "      <th>8659</th>\n",
       "      <td>Bordeaux Rouge 2016</td>\n",
       "      <td>France</td>\n",
       "      <td>Bordeaux</td>\n",
       "      <td>Mouton Cadet</td>\n",
       "      <td>3.5</td>\n",
       "      <td>9926</td>\n",
       "      <td>9.25</td>\n",
       "      <td>2016</td>\n",
       "    </tr>\n",
       "    <tr>\n",
       "      <th>8663</th>\n",
       "      <td>Haut-Médoc 2010</td>\n",
       "      <td>France</td>\n",
       "      <td>Haut-Médoc</td>\n",
       "      <td>Château Cambon La Pelouse</td>\n",
       "      <td>3.7</td>\n",
       "      <td>996</td>\n",
       "      <td>23.95</td>\n",
       "      <td>2010</td>\n",
       "    </tr>\n",
       "  </tbody>\n",
       "</table>\n",
       "<p>2256 rows × 8 columns</p>\n",
       "</div>"
      ],
      "text/plain": [
       "                                                  Name Country  \\\n",
       "0                                         Pomerol 2011  France   \n",
       "1                                           Lirac 2017  France   \n",
       "5                     Gigondas (Nobles Terrasses) 2017  France   \n",
       "9                                       Tradition 2014  France   \n",
       "12    Les Obriers de la Peira Terrasses du Larzac 2017  France   \n",
       "...                                                ...     ...   \n",
       "8652   Saint-Émilion Grand Cru (Grand Cru Classé) 2016  France   \n",
       "8653                           Côtes de Castillon 2005  France   \n",
       "8655               Côtes du Rhône 'Les Cranilles' 2017  France   \n",
       "8659                               Bordeaux Rouge 2016  France   \n",
       "8663                                   Haut-Médoc 2010  France   \n",
       "\n",
       "                             Region  \\\n",
       "0                           Pomerol   \n",
       "1                             Lirac   \n",
       "5                          Gigondas   \n",
       "9                         Minervois   \n",
       "12              Terrasses du Larzac   \n",
       "...                             ...   \n",
       "8652        Saint-Émilion Grand Cru   \n",
       "8653  Castillon - Côtes de Bordeaux   \n",
       "8655                 Côtes-du-Rhône   \n",
       "8659                       Bordeaux   \n",
       "8663                     Haut-Médoc   \n",
       "\n",
       "                                               Winery  Rating  \\\n",
       "0                               Château La Providence     4.2   \n",
       "1                                  Château Mont-Redon     4.3   \n",
       "5                                       Vieux Clocher     3.7   \n",
       "9                            Domaine des Aires Hautes     3.5   \n",
       "12                              La Pèira en Damaisèla     4.1   \n",
       "...                                               ...     ...   \n",
       "8652                           Château Cote de Baleau     4.0   \n",
       "8653                                Clos Les Lunelles     3.8   \n",
       "8655  Les Vins de Vienne - Cuilleron-Gaillard-Villard     3.7   \n",
       "8659                                     Mouton Cadet     3.5   \n",
       "8663                        Château Cambon La Pelouse     3.7   \n",
       "\n",
       "      Number_Of_Ratings  Price  Year  \n",
       "0                   100  95.00  2011  \n",
       "1                   100  15.50  2017  \n",
       "5                   100  19.90  2017  \n",
       "9                   100   6.90  2014  \n",
       "12                  100  14.52  2017  \n",
       "...                 ...    ...   ...  \n",
       "8652                 99  34.97  2016  \n",
       "8653                 99  54.95  2005  \n",
       "8655                 99  10.50  2017  \n",
       "8659               9926   9.25  2016  \n",
       "8663                996  23.95  2010  \n",
       "\n",
       "[2256 rows x 8 columns]"
      ]
     },
     "execution_count": 44,
     "metadata": {},
     "output_type": "execute_result"
    }
   ],
   "source": [
    "df_franca = df[df['Country'] == 'France']\n",
    "df_franca"
   ]
  },
  {
   "cell_type": "code",
   "execution_count": 50,
   "metadata": {},
   "outputs": [
    {
     "data": {
      "text/html": [
       "<div>\n",
       "<style scoped>\n",
       "    .dataframe tbody tr th:only-of-type {\n",
       "        vertical-align: middle;\n",
       "    }\n",
       "\n",
       "    .dataframe tbody tr th {\n",
       "        vertical-align: top;\n",
       "    }\n",
       "\n",
       "    .dataframe thead th {\n",
       "        text-align: right;\n",
       "    }\n",
       "</style>\n",
       "<table border=\"1\" class=\"dataframe\">\n",
       "  <thead>\n",
       "    <tr style=\"text-align: right;\">\n",
       "      <th></th>\n",
       "      <th>Name</th>\n",
       "      <th>Country</th>\n",
       "      <th>Region</th>\n",
       "      <th>Winery</th>\n",
       "      <th>Rating</th>\n",
       "      <th>Number_Of_Ratings</th>\n",
       "      <th>Price</th>\n",
       "      <th>Year</th>\n",
       "    </tr>\n",
       "  </thead>\n",
       "  <tbody>\n",
       "    <tr>\n",
       "      <th>1</th>\n",
       "      <td>Lirac 2017</td>\n",
       "      <td>France</td>\n",
       "      <td>Lirac</td>\n",
       "      <td>Château Mont-Redon</td>\n",
       "      <td>4.3</td>\n",
       "      <td>100</td>\n",
       "      <td>15.50</td>\n",
       "      <td>2017</td>\n",
       "    </tr>\n",
       "    <tr>\n",
       "      <th>12</th>\n",
       "      <td>Les Obriers de la Peira Terrasses du Larzac 2017</td>\n",
       "      <td>France</td>\n",
       "      <td>Terrasses du Larzac</td>\n",
       "      <td>La Pèira en Damaisèla</td>\n",
       "      <td>4.1</td>\n",
       "      <td>100</td>\n",
       "      <td>14.52</td>\n",
       "      <td>2017</td>\n",
       "    </tr>\n",
       "    <tr>\n",
       "      <th>39</th>\n",
       "      <td>Ro-Rée Saint-Joseph 2018</td>\n",
       "      <td>France</td>\n",
       "      <td>Saint-Joseph</td>\n",
       "      <td>Louis Chèze</td>\n",
       "      <td>4.2</td>\n",
       "      <td>101</td>\n",
       "      <td>24.37</td>\n",
       "      <td>2018</td>\n",
       "    </tr>\n",
       "    <tr>\n",
       "      <th>83</th>\n",
       "      <td>Saint-Émilion Grand Cru 2015</td>\n",
       "      <td>France</td>\n",
       "      <td>Saint-Émilion Grand Cru</td>\n",
       "      <td>Château Vieux Clos St. Emilion</td>\n",
       "      <td>4.1</td>\n",
       "      <td>102</td>\n",
       "      <td>23.09</td>\n",
       "      <td>2015</td>\n",
       "    </tr>\n",
       "    <tr>\n",
       "      <th>92</th>\n",
       "      <td>Coume de l'Olla Rouge 2019</td>\n",
       "      <td>France</td>\n",
       "      <td>Vin de France</td>\n",
       "      <td>Matassa</td>\n",
       "      <td>4.1</td>\n",
       "      <td>102</td>\n",
       "      <td>16.96</td>\n",
       "      <td>2019</td>\n",
       "    </tr>\n",
       "    <tr>\n",
       "      <th>...</th>\n",
       "      <td>...</td>\n",
       "      <td>...</td>\n",
       "      <td>...</td>\n",
       "      <td>...</td>\n",
       "      <td>...</td>\n",
       "      <td>...</td>\n",
       "      <td>...</td>\n",
       "      <td>...</td>\n",
       "    </tr>\n",
       "    <tr>\n",
       "      <th>8420</th>\n",
       "      <td>Pure Oh! Rigine Beaujolais 2018</td>\n",
       "      <td>France</td>\n",
       "      <td>Beaujolais</td>\n",
       "      <td>Les Bertrand</td>\n",
       "      <td>4.2</td>\n",
       "      <td>93</td>\n",
       "      <td>16.47</td>\n",
       "      <td>2018</td>\n",
       "    </tr>\n",
       "    <tr>\n",
       "      <th>8451</th>\n",
       "      <td>Médoc 2016</td>\n",
       "      <td>France</td>\n",
       "      <td>Médoc</td>\n",
       "      <td>Clos Manou</td>\n",
       "      <td>4.0</td>\n",
       "      <td>94</td>\n",
       "      <td>24.90</td>\n",
       "      <td>2016</td>\n",
       "    </tr>\n",
       "    <tr>\n",
       "      <th>8492</th>\n",
       "      <td>Pessac-Léognan 2017</td>\n",
       "      <td>France</td>\n",
       "      <td>Pessac-Léognan</td>\n",
       "      <td>Château Picque Caillou</td>\n",
       "      <td>4.1</td>\n",
       "      <td>95</td>\n",
       "      <td>23.88</td>\n",
       "      <td>2017</td>\n",
       "    </tr>\n",
       "    <tr>\n",
       "      <th>8510</th>\n",
       "      <td>Bandol Rouge 2015</td>\n",
       "      <td>France</td>\n",
       "      <td>Bandol</td>\n",
       "      <td>Château Val d'Arenc</td>\n",
       "      <td>4.1</td>\n",
       "      <td>95</td>\n",
       "      <td>18.90</td>\n",
       "      <td>2015</td>\n",
       "    </tr>\n",
       "    <tr>\n",
       "      <th>8567</th>\n",
       "      <td>Bordeaux 2018</td>\n",
       "      <td>France</td>\n",
       "      <td>Bordeaux</td>\n",
       "      <td>Château Bréjou</td>\n",
       "      <td>4.1</td>\n",
       "      <td>97</td>\n",
       "      <td>9.95</td>\n",
       "      <td>2018</td>\n",
       "    </tr>\n",
       "  </tbody>\n",
       "</table>\n",
       "<p>162 rows × 8 columns</p>\n",
       "</div>"
      ],
      "text/plain": [
       "                                                  Name Country  \\\n",
       "1                                           Lirac 2017  France   \n",
       "12    Les Obriers de la Peira Terrasses du Larzac 2017  France   \n",
       "39                            Ro-Rée Saint-Joseph 2018  France   \n",
       "83                        Saint-Émilion Grand Cru 2015  France   \n",
       "92                          Coume de l'Olla Rouge 2019  France   \n",
       "...                                                ...     ...   \n",
       "8420                   Pure Oh! Rigine Beaujolais 2018  France   \n",
       "8451                                        Médoc 2016  France   \n",
       "8492                               Pessac-Léognan 2017  France   \n",
       "8510                                 Bandol Rouge 2015  France   \n",
       "8567                                     Bordeaux 2018  France   \n",
       "\n",
       "                       Region                          Winery  Rating  \\\n",
       "1                       Lirac              Château Mont-Redon     4.3   \n",
       "12        Terrasses du Larzac           La Pèira en Damaisèla     4.1   \n",
       "39               Saint-Joseph                     Louis Chèze     4.2   \n",
       "83    Saint-Émilion Grand Cru  Château Vieux Clos St. Emilion     4.1   \n",
       "92              Vin de France                         Matassa     4.1   \n",
       "...                       ...                             ...     ...   \n",
       "8420               Beaujolais                    Les Bertrand     4.2   \n",
       "8451                    Médoc                      Clos Manou     4.0   \n",
       "8492           Pessac-Léognan          Château Picque Caillou     4.1   \n",
       "8510                   Bandol             Château Val d'Arenc     4.1   \n",
       "8567                 Bordeaux                  Château Bréjou     4.1   \n",
       "\n",
       "      Number_Of_Ratings  Price  Year  \n",
       "1                   100  15.50  2017  \n",
       "12                  100  14.52  2017  \n",
       "39                  101  24.37  2018  \n",
       "83                  102  23.09  2015  \n",
       "92                  102  16.96  2019  \n",
       "...                 ...    ...   ...  \n",
       "8420                 93  16.47  2018  \n",
       "8451                 94  24.90  2016  \n",
       "8492                 95  23.88  2017  \n",
       "8510                 95  18.90  2015  \n",
       "8567                 97   9.95  2018  \n",
       "\n",
       "[162 rows x 8 columns]"
      ]
     },
     "execution_count": 50,
     "metadata": {},
     "output_type": "execute_result"
    }
   ],
   "source": [
    "x = df_franca[(df_franca['Rating']>=4) & (df_franca['Price']<=30)]\n",
    "x"
   ]
  },
  {
   "cell_type": "code",
   "execution_count": 51,
   "metadata": {},
   "outputs": [
    {
     "data": {
      "text/plain": [
       "count    162.000000\n",
       "mean      20.285864\n",
       "std        6.410057\n",
       "min        5.650000\n",
       "25%       16.335000\n",
       "50%       21.370000\n",
       "75%       25.130000\n",
       "max       30.000000\n",
       "Name: Price, dtype: float64"
      ]
     },
     "execution_count": 51,
     "metadata": {},
     "output_type": "execute_result"
    }
   ],
   "source": [
    "x['Price'].describe()"
   ]
  },
  {
   "cell_type": "code",
   "execution_count": 62,
   "metadata": {},
   "outputs": [
    {
     "data": {
      "image/png": "[encoded data removed]",
      "text/plain": [
       "<Figure size 640x480 with 1 Axes>"
      ]
     },
     "metadata": {},
     "output_type": "display_data"
    }
   ],
   "source": [
    "plt.hist(x['Rating'], bins='fd')\n",
    "plt.title('Vinhos Franceses com melhor custo benefício')\n",
    "plt.xlabel('Nota(Rating)')\n",
    "plt.ylabel('Quantidade_vinhos')\n",
    "plt.show()"
   ]
  },
  {
   "cell_type": "code",
   "execution_count": 64,
   "metadata": {},
   "outputs": [
    {
     "data": {
      "image/png": "[encoded data removed]",
      "text/plain": [
       "<Figure size 640x480 with 1 Axes>"
      ]
     },
     "metadata": {},
     "output_type": "display_data"
    }
   ],
   "source": [
    "plt.boxplot(['Price'])\n",
    "plt.show()"
   ]
  },
  {
   "cell_type": "code",
   "execution_count": 68,
   "metadata": {},
   "outputs": [
    {
     "data": {
      "text/html": [
       "<div>\n",
       "<style scoped>\n",
       "    .dataframe tbody tr th:only-of-type {\n",
       "        vertical-align: middle;\n",
       "    }\n",
       "\n",
       "    .dataframe tbody tr th {\n",
       "        vertical-align: top;\n",
       "    }\n",
       "\n",
       "    .dataframe thead th {\n",
       "        text-align: right;\n",
       "    }\n",
       "</style>\n",
       "<table border=\"1\" class=\"dataframe\">\n",
       "  <thead>\n",
       "    <tr style=\"text-align: right;\">\n",
       "      <th></th>\n",
       "      <th>Name</th>\n",
       "      <th>Country</th>\n",
       "      <th>Region</th>\n",
       "      <th>Winery</th>\n",
       "      <th>Rating</th>\n",
       "      <th>Number_Of_Ratings</th>\n",
       "      <th>Price</th>\n",
       "      <th>Year</th>\n",
       "    </tr>\n",
       "  </thead>\n",
       "  <tbody>\n",
       "    <tr>\n",
       "      <th>23</th>\n",
       "      <td>Virtus Tannat 2013</td>\n",
       "      <td>Brazil</td>\n",
       "      <td>Serra Gaúcha</td>\n",
       "      <td>Monte Paschoal</td>\n",
       "      <td>2.9</td>\n",
       "      <td>100</td>\n",
       "      <td>6.77</td>\n",
       "      <td>2013</td>\n",
       "    </tr>\n",
       "    <tr>\n",
       "      <th>66</th>\n",
       "      <td>Fausto Tannat 2015</td>\n",
       "      <td>Brazil</td>\n",
       "      <td>Serra Gaúcha</td>\n",
       "      <td>Pizzato</td>\n",
       "      <td>3.6</td>\n",
       "      <td>1012</td>\n",
       "      <td>11.35</td>\n",
       "      <td>2015</td>\n",
       "    </tr>\n",
       "    <tr>\n",
       "      <th>124</th>\n",
       "      <td>Merlot Reserva 2008</td>\n",
       "      <td>Brazil</td>\n",
       "      <td>Vale dos Vinhedos</td>\n",
       "      <td>Pizzato</td>\n",
       "      <td>3.2</td>\n",
       "      <td>103</td>\n",
       "      <td>15.90</td>\n",
       "      <td>2008</td>\n",
       "    </tr>\n",
       "    <tr>\n",
       "      <th>562</th>\n",
       "      <td>Reserva Cabernet Sauvignon 2013</td>\n",
       "      <td>Brazil</td>\n",
       "      <td>Serra Gaúcha</td>\n",
       "      <td>Don Guerino</td>\n",
       "      <td>3.3</td>\n",
       "      <td>117</td>\n",
       "      <td>12.62</td>\n",
       "      <td>2013</td>\n",
       "    </tr>\n",
       "    <tr>\n",
       "      <th>862</th>\n",
       "      <td>Dedicato Tannat 2013</td>\n",
       "      <td>Brazil</td>\n",
       "      <td>Serra Gaúcha</td>\n",
       "      <td>Monte Paschoal</td>\n",
       "      <td>3.9</td>\n",
       "      <td>128</td>\n",
       "      <td>15.55</td>\n",
       "      <td>2013</td>\n",
       "    </tr>\n",
       "    <tr>\n",
       "      <th>1286</th>\n",
       "      <td>Reserva Tannat 2014</td>\n",
       "      <td>Brazil</td>\n",
       "      <td>Serra Gaúcha</td>\n",
       "      <td>Don Guerino</td>\n",
       "      <td>3.5</td>\n",
       "      <td>146</td>\n",
       "      <td>13.60</td>\n",
       "      <td>2014</td>\n",
       "    </tr>\n",
       "    <tr>\n",
       "      <th>1304</th>\n",
       "      <td>Da'Divas Pinot Noir 2010</td>\n",
       "      <td>Brazil</td>\n",
       "      <td>Encruzilhada do Sul</td>\n",
       "      <td>Lidio Carraro</td>\n",
       "      <td>3.2</td>\n",
       "      <td>147</td>\n",
       "      <td>14.50</td>\n",
       "      <td>2010</td>\n",
       "    </tr>\n",
       "    <tr>\n",
       "      <th>1625</th>\n",
       "      <td>Quorum (Grande Vindima) 2008</td>\n",
       "      <td>Brazil</td>\n",
       "      <td>Vale dos Vinhedos</td>\n",
       "      <td>Lidio Carraro</td>\n",
       "      <td>4.0</td>\n",
       "      <td>1627</td>\n",
       "      <td>45.77</td>\n",
       "      <td>2008</td>\n",
       "    </tr>\n",
       "    <tr>\n",
       "      <th>1898</th>\n",
       "      <td>Cabernet Sauvignon Reserva 2012</td>\n",
       "      <td>Brazil</td>\n",
       "      <td>Vale dos Vinhedos</td>\n",
       "      <td>Pizzato</td>\n",
       "      <td>3.6</td>\n",
       "      <td>177</td>\n",
       "      <td>14.50</td>\n",
       "      <td>2012</td>\n",
       "    </tr>\n",
       "    <tr>\n",
       "      <th>1951</th>\n",
       "      <td>Virtus Merlot 2015</td>\n",
       "      <td>Brazil</td>\n",
       "      <td>Serra Gaúcha</td>\n",
       "      <td>Monte Paschoal</td>\n",
       "      <td>3.0</td>\n",
       "      <td>180</td>\n",
       "      <td>6.77</td>\n",
       "      <td>2015</td>\n",
       "    </tr>\n",
       "    <tr>\n",
       "      <th>2049</th>\n",
       "      <td>Family Vineyards Pinot Noir 2015</td>\n",
       "      <td>Brazil</td>\n",
       "      <td>Rio Grande do Sul</td>\n",
       "      <td>Miolo</td>\n",
       "      <td>3.2</td>\n",
       "      <td>186</td>\n",
       "      <td>9.90</td>\n",
       "      <td>2015</td>\n",
       "    </tr>\n",
       "    <tr>\n",
       "      <th>2246</th>\n",
       "      <td>Identidade Gran Terroir Corte 2013</td>\n",
       "      <td>Brazil</td>\n",
       "      <td>Rio Grande do Sul</td>\n",
       "      <td>Casa Valduga</td>\n",
       "      <td>4.0</td>\n",
       "      <td>197</td>\n",
       "      <td>24.90</td>\n",
       "      <td>2013</td>\n",
       "    </tr>\n",
       "    <tr>\n",
       "      <th>2377</th>\n",
       "      <td>Talento 2012</td>\n",
       "      <td>Brazil</td>\n",
       "      <td>Serra Gaúcha</td>\n",
       "      <td>Salton</td>\n",
       "      <td>3.8</td>\n",
       "      <td>2066</td>\n",
       "      <td>16.72</td>\n",
       "      <td>2012</td>\n",
       "    </tr>\n",
       "    <tr>\n",
       "      <th>2704</th>\n",
       "      <td>Gran Cave Merlot 2005</td>\n",
       "      <td>Brazil</td>\n",
       "      <td>Serra Gaúcha</td>\n",
       "      <td>Boscato</td>\n",
       "      <td>3.8</td>\n",
       "      <td>233</td>\n",
       "      <td>37.50</td>\n",
       "      <td>2005</td>\n",
       "    </tr>\n",
       "    <tr>\n",
       "      <th>3011</th>\n",
       "      <td>Fausto Merlot 2012</td>\n",
       "      <td>Brazil</td>\n",
       "      <td>Serra Gaúcha</td>\n",
       "      <td>Pizzato</td>\n",
       "      <td>3.0</td>\n",
       "      <td>255</td>\n",
       "      <td>11.45</td>\n",
       "      <td>2012</td>\n",
       "    </tr>\n",
       "    <tr>\n",
       "      <th>3361</th>\n",
       "      <td>Elos Cabernet Sauvignon - Malbec 2009</td>\n",
       "      <td>Brazil</td>\n",
       "      <td>Encruzilhada do Sul</td>\n",
       "      <td>Lidio Carraro</td>\n",
       "      <td>3.4</td>\n",
       "      <td>277</td>\n",
       "      <td>29.19</td>\n",
       "      <td>2009</td>\n",
       "    </tr>\n",
       "    <tr>\n",
       "      <th>3843</th>\n",
       "      <td>Reserva Teroldego 2014</td>\n",
       "      <td>Brazil</td>\n",
       "      <td>Serra Gaúcha</td>\n",
       "      <td>Don Guerino</td>\n",
       "      <td>3.7</td>\n",
       "      <td>305</td>\n",
       "      <td>14.57</td>\n",
       "      <td>2014</td>\n",
       "    </tr>\n",
       "    <tr>\n",
       "      <th>3908</th>\n",
       "      <td>Family Vineyards Tannat 2015</td>\n",
       "      <td>Brazil</td>\n",
       "      <td>Rio Grande do Sul</td>\n",
       "      <td>Miolo</td>\n",
       "      <td>3.5</td>\n",
       "      <td>31</td>\n",
       "      <td>11.19</td>\n",
       "      <td>2015</td>\n",
       "    </tr>\n",
       "    <tr>\n",
       "      <th>4107</th>\n",
       "      <td>Tannat (Grande Vindima) 2010</td>\n",
       "      <td>Brazil</td>\n",
       "      <td>Encruzilhada do Sul</td>\n",
       "      <td>Lidio Carraro</td>\n",
       "      <td>4.0</td>\n",
       "      <td>326</td>\n",
       "      <td>73.06</td>\n",
       "      <td>2010</td>\n",
       "    </tr>\n",
       "    <tr>\n",
       "      <th>4477</th>\n",
       "      <td>Agnus Malbec 2015</td>\n",
       "      <td>Brazil</td>\n",
       "      <td>Encruzilhada do Sul</td>\n",
       "      <td>Lidio Carraro</td>\n",
       "      <td>3.4</td>\n",
       "      <td>352</td>\n",
       "      <td>12.62</td>\n",
       "      <td>2015</td>\n",
       "    </tr>\n",
       "    <tr>\n",
       "      <th>4961</th>\n",
       "      <td>Flowers Tinto Suave 2014</td>\n",
       "      <td>Brazil</td>\n",
       "      <td>Serra Gaúcha</td>\n",
       "      <td>Salton</td>\n",
       "      <td>3.0</td>\n",
       "      <td>395</td>\n",
       "      <td>6.90</td>\n",
       "      <td>2014</td>\n",
       "    </tr>\n",
       "    <tr>\n",
       "      <th>5073</th>\n",
       "      <td>Agnus Cabernet Sauvignon 2012</td>\n",
       "      <td>Brazil</td>\n",
       "      <td>Encruzilhada do Sul</td>\n",
       "      <td>Lidio Carraro</td>\n",
       "      <td>3.2</td>\n",
       "      <td>406</td>\n",
       "      <td>11.65</td>\n",
       "      <td>2012</td>\n",
       "    </tr>\n",
       "    <tr>\n",
       "      <th>5445</th>\n",
       "      <td>Flowers Tinto Seco 2013</td>\n",
       "      <td>Brazil</td>\n",
       "      <td>Serra Gaúcha</td>\n",
       "      <td>Salton</td>\n",
       "      <td>3.0</td>\n",
       "      <td>443</td>\n",
       "      <td>6.95</td>\n",
       "      <td>2013</td>\n",
       "    </tr>\n",
       "    <tr>\n",
       "      <th>5764</th>\n",
       "      <td>Da'Divas Tempranillo 2012</td>\n",
       "      <td>Brazil</td>\n",
       "      <td>Encruzilhada do Sul</td>\n",
       "      <td>Lidio Carraro</td>\n",
       "      <td>3.5</td>\n",
       "      <td>479</td>\n",
       "      <td>14.57</td>\n",
       "      <td>2012</td>\n",
       "    </tr>\n",
       "    <tr>\n",
       "      <th>5835</th>\n",
       "      <td>Lote 43 Cabernet Sauvignon - Merlot 2012</td>\n",
       "      <td>Brazil</td>\n",
       "      <td>Vale dos Vinhedos</td>\n",
       "      <td>Miolo</td>\n",
       "      <td>4.2</td>\n",
       "      <td>4846</td>\n",
       "      <td>22.90</td>\n",
       "      <td>2012</td>\n",
       "    </tr>\n",
       "    <tr>\n",
       "      <th>5940</th>\n",
       "      <td>Reserva Teroldego 2016</td>\n",
       "      <td>Brazil</td>\n",
       "      <td>Serra Gaúcha</td>\n",
       "      <td>Don Guerino</td>\n",
       "      <td>3.8</td>\n",
       "      <td>499</td>\n",
       "      <td>14.57</td>\n",
       "      <td>2016</td>\n",
       "    </tr>\n",
       "    <tr>\n",
       "      <th>6154</th>\n",
       "      <td>Elos Cabernet Sauvignon - Malbec 2011</td>\n",
       "      <td>Brazil</td>\n",
       "      <td>Encruzilhada do Sul</td>\n",
       "      <td>Lidio Carraro</td>\n",
       "      <td>3.7</td>\n",
       "      <td>524</td>\n",
       "      <td>29.19</td>\n",
       "      <td>2011</td>\n",
       "    </tr>\n",
       "    <tr>\n",
       "      <th>6242</th>\n",
       "      <td>Fausto Merlot 2015</td>\n",
       "      <td>Brazil</td>\n",
       "      <td>Serra Gaúcha</td>\n",
       "      <td>Pizzato</td>\n",
       "      <td>3.5</td>\n",
       "      <td>538</td>\n",
       "      <td>11.45</td>\n",
       "      <td>2015</td>\n",
       "    </tr>\n",
       "    <tr>\n",
       "      <th>6829</th>\n",
       "      <td>Family Vineyards Merlot 2015</td>\n",
       "      <td>Brazil</td>\n",
       "      <td>Rio Grande do Sul</td>\n",
       "      <td>Miolo</td>\n",
       "      <td>3.0</td>\n",
       "      <td>62</td>\n",
       "      <td>9.90</td>\n",
       "      <td>2015</td>\n",
       "    </tr>\n",
       "    <tr>\n",
       "      <th>7359</th>\n",
       "      <td>Da'Divas Tempranillo 2016</td>\n",
       "      <td>Brazil</td>\n",
       "      <td>Encruzilhada do Sul</td>\n",
       "      <td>Lidio Carraro</td>\n",
       "      <td>3.6</td>\n",
       "      <td>701</td>\n",
       "      <td>16.52</td>\n",
       "      <td>2016</td>\n",
       "    </tr>\n",
       "    <tr>\n",
       "      <th>7471</th>\n",
       "      <td>Da'Divas Pinot Noir 2012</td>\n",
       "      <td>Brazil</td>\n",
       "      <td>Encruzilhada do Sul</td>\n",
       "      <td>Lidio Carraro</td>\n",
       "      <td>3.3</td>\n",
       "      <td>720</td>\n",
       "      <td>14.57</td>\n",
       "      <td>2012</td>\n",
       "    </tr>\n",
       "    <tr>\n",
       "      <th>7475</th>\n",
       "      <td>Agnus Merlot 2011</td>\n",
       "      <td>Brazil</td>\n",
       "      <td>Encruzilhada do Sul</td>\n",
       "      <td>Lidio Carraro</td>\n",
       "      <td>3.2</td>\n",
       "      <td>722</td>\n",
       "      <td>11.65</td>\n",
       "      <td>2011</td>\n",
       "    </tr>\n",
       "    <tr>\n",
       "      <th>7860</th>\n",
       "      <td>Seival Tannat 2012</td>\n",
       "      <td>Brazil</td>\n",
       "      <td>Campanha</td>\n",
       "      <td>Miolo</td>\n",
       "      <td>3.6</td>\n",
       "      <td>80</td>\n",
       "      <td>11.50</td>\n",
       "      <td>2012</td>\n",
       "    </tr>\n",
       "    <tr>\n",
       "      <th>7935</th>\n",
       "      <td>Quorum (Grande Vindima) 2006</td>\n",
       "      <td>Brazil</td>\n",
       "      <td>Vale dos Vinhedos</td>\n",
       "      <td>Lidio Carraro</td>\n",
       "      <td>3.9</td>\n",
       "      <td>819</td>\n",
       "      <td>45.77</td>\n",
       "      <td>2006</td>\n",
       "    </tr>\n",
       "    <tr>\n",
       "      <th>7982</th>\n",
       "      <td>Fausto Merlot 2016</td>\n",
       "      <td>Brazil</td>\n",
       "      <td>Serra Gaúcha</td>\n",
       "      <td>Pizzato</td>\n",
       "      <td>3.5</td>\n",
       "      <td>829</td>\n",
       "      <td>11.45</td>\n",
       "      <td>2016</td>\n",
       "    </tr>\n",
       "    <tr>\n",
       "      <th>8072</th>\n",
       "      <td>Reserva Merlot 2016</td>\n",
       "      <td>Brazil</td>\n",
       "      <td>Serra Gaúcha</td>\n",
       "      <td>Don Guerino</td>\n",
       "      <td>3.7</td>\n",
       "      <td>85</td>\n",
       "      <td>12.62</td>\n",
       "      <td>2016</td>\n",
       "    </tr>\n",
       "    <tr>\n",
       "      <th>8307</th>\n",
       "      <td>Intenso Tannat 2013</td>\n",
       "      <td>Brazil</td>\n",
       "      <td>Campanha</td>\n",
       "      <td>Salton</td>\n",
       "      <td>3.3</td>\n",
       "      <td>90</td>\n",
       "      <td>9.95</td>\n",
       "      <td>2013</td>\n",
       "    </tr>\n",
       "    <tr>\n",
       "      <th>8316</th>\n",
       "      <td>Merlot (Grande Vindima) 2008</td>\n",
       "      <td>Brazil</td>\n",
       "      <td>Encruzilhada do Sul</td>\n",
       "      <td>Lidio Carraro</td>\n",
       "      <td>3.9</td>\n",
       "      <td>902</td>\n",
       "      <td>45.77</td>\n",
       "      <td>2008</td>\n",
       "    </tr>\n",
       "    <tr>\n",
       "      <th>8477</th>\n",
       "      <td>Elos Touriga Nacional - Tannat 2012</td>\n",
       "      <td>Brazil</td>\n",
       "      <td>Encruzilhada do Sul</td>\n",
       "      <td>Lidio Carraro</td>\n",
       "      <td>3.9</td>\n",
       "      <td>941</td>\n",
       "      <td>29.19</td>\n",
       "      <td>2012</td>\n",
       "    </tr>\n",
       "    <tr>\n",
       "      <th>8493</th>\n",
       "      <td>Reserva Cabernet Sauvignon 2012</td>\n",
       "      <td>Brazil</td>\n",
       "      <td>Serra Gaúcha</td>\n",
       "      <td>Don Guerino</td>\n",
       "      <td>3.3</td>\n",
       "      <td>95</td>\n",
       "      <td>12.62</td>\n",
       "      <td>2012</td>\n",
       "    </tr>\n",
       "  </tbody>\n",
       "</table>\n",
       "</div>"
      ],
      "text/plain": [
       "                                          Name Country               Region  \\\n",
       "23                          Virtus Tannat 2013  Brazil         Serra Gaúcha   \n",
       "66                          Fausto Tannat 2015  Brazil         Serra Gaúcha   \n",
       "124                        Merlot Reserva 2008  Brazil    Vale dos Vinhedos   \n",
       "562            Reserva Cabernet Sauvignon 2013  Brazil         Serra Gaúcha   \n",
       "862                       Dedicato Tannat 2013  Brazil         Serra Gaúcha   \n",
       "1286                       Reserva Tannat 2014  Brazil         Serra Gaúcha   \n",
       "1304                  Da'Divas Pinot Noir 2010  Brazil  Encruzilhada do Sul   \n",
       "1625              Quorum (Grande Vindima) 2008  Brazil    Vale dos Vinhedos   \n",
       "1898           Cabernet Sauvignon Reserva 2012  Brazil    Vale dos Vinhedos   \n",
       "1951                        Virtus Merlot 2015  Brazil         Serra Gaúcha   \n",
       "2049          Family Vineyards Pinot Noir 2015  Brazil    Rio Grande do Sul   \n",
       "2246        Identidade Gran Terroir Corte 2013  Brazil    Rio Grande do Sul   \n",
       "2377                              Talento 2012  Brazil         Serra Gaúcha   \n",
       "2704                     Gran Cave Merlot 2005  Brazil         Serra Gaúcha   \n",
       "3011                        Fausto Merlot 2012  Brazil         Serra Gaúcha   \n",
       "3361     Elos Cabernet Sauvignon - Malbec 2009  Brazil  Encruzilhada do Sul   \n",
       "3843                    Reserva Teroldego 2014  Brazil         Serra Gaúcha   \n",
       "3908              Family Vineyards Tannat 2015  Brazil    Rio Grande do Sul   \n",
       "4107              Tannat (Grande Vindima) 2010  Brazil  Encruzilhada do Sul   \n",
       "4477                         Agnus Malbec 2015  Brazil  Encruzilhada do Sul   \n",
       "4961                  Flowers Tinto Suave 2014  Brazil         Serra Gaúcha   \n",
       "5073             Agnus Cabernet Sauvignon 2012  Brazil  Encruzilhada do Sul   \n",
       "5445                   Flowers Tinto Seco 2013  Brazil         Serra Gaúcha   \n",
       "5764                 Da'Divas Tempranillo 2012  Brazil  Encruzilhada do Sul   \n",
       "5835  Lote 43 Cabernet Sauvignon - Merlot 2012  Brazil    Vale dos Vinhedos   \n",
       "5940                    Reserva Teroldego 2016  Brazil         Serra Gaúcha   \n",
       "6154     Elos Cabernet Sauvignon - Malbec 2011  Brazil  Encruzilhada do Sul   \n",
       "6242                        Fausto Merlot 2015  Brazil         Serra Gaúcha   \n",
       "6829              Family Vineyards Merlot 2015  Brazil    Rio Grande do Sul   \n",
       "7359                 Da'Divas Tempranillo 2016  Brazil  Encruzilhada do Sul   \n",
       "7471                  Da'Divas Pinot Noir 2012  Brazil  Encruzilhada do Sul   \n",
       "7475                         Agnus Merlot 2011  Brazil  Encruzilhada do Sul   \n",
       "7860                        Seival Tannat 2012  Brazil             Campanha   \n",
       "7935              Quorum (Grande Vindima) 2006  Brazil    Vale dos Vinhedos   \n",
       "7982                        Fausto Merlot 2016  Brazil         Serra Gaúcha   \n",
       "8072                       Reserva Merlot 2016  Brazil         Serra Gaúcha   \n",
       "8307                       Intenso Tannat 2013  Brazil             Campanha   \n",
       "8316              Merlot (Grande Vindima) 2008  Brazil  Encruzilhada do Sul   \n",
       "8477       Elos Touriga Nacional - Tannat 2012  Brazil  Encruzilhada do Sul   \n",
       "8493           Reserva Cabernet Sauvignon 2012  Brazil         Serra Gaúcha   \n",
       "\n",
       "              Winery  Rating  Number_Of_Ratings  Price  Year  \n",
       "23    Monte Paschoal     2.9                100   6.77  2013  \n",
       "66           Pizzato     3.6               1012  11.35  2015  \n",
       "124          Pizzato     3.2                103  15.90  2008  \n",
       "562      Don Guerino     3.3                117  12.62  2013  \n",
       "862   Monte Paschoal     3.9                128  15.55  2013  \n",
       "1286     Don Guerino     3.5                146  13.60  2014  \n",
       "1304   Lidio Carraro     3.2                147  14.50  2010  \n",
       "1625   Lidio Carraro     4.0               1627  45.77  2008  \n",
       "1898         Pizzato     3.6                177  14.50  2012  \n",
       "1951  Monte Paschoal     3.0                180   6.77  2015  \n",
       "2049           Miolo     3.2                186   9.90  2015  \n",
       "2246    Casa Valduga     4.0                197  24.90  2013  \n",
       "2377          Salton     3.8               2066  16.72  2012  \n",
       "2704         Boscato     3.8                233  37.50  2005  \n",
       "3011         Pizzato     3.0                255  11.45  2012  \n",
       "3361   Lidio Carraro     3.4                277  29.19  2009  \n",
       "3843     Don Guerino     3.7                305  14.57  2014  \n",
       "3908           Miolo     3.5                 31  11.19  2015  \n",
       "4107   Lidio Carraro     4.0                326  73.06  2010  \n",
       "4477   Lidio Carraro     3.4                352  12.62  2015  \n",
       "4961          Salton     3.0                395   6.90  2014  \n",
       "5073   Lidio Carraro     3.2                406  11.65  2012  \n",
       "5445          Salton     3.0                443   6.95  2013  \n",
       "5764   Lidio Carraro     3.5                479  14.57  2012  \n",
       "5835           Miolo     4.2               4846  22.90  2012  \n",
       "5940     Don Guerino     3.8                499  14.57  2016  \n",
       "6154   Lidio Carraro     3.7                524  29.19  2011  \n",
       "6242         Pizzato     3.5                538  11.45  2015  \n",
       "6829           Miolo     3.0                 62   9.90  2015  \n",
       "7359   Lidio Carraro     3.6                701  16.52  2016  \n",
       "7471   Lidio Carraro     3.3                720  14.57  2012  \n",
       "7475   Lidio Carraro     3.2                722  11.65  2011  \n",
       "7860           Miolo     3.6                 80  11.50  2012  \n",
       "7935   Lidio Carraro     3.9                819  45.77  2006  \n",
       "7982         Pizzato     3.5                829  11.45  2016  \n",
       "8072     Don Guerino     3.7                 85  12.62  2016  \n",
       "8307          Salton     3.3                 90   9.95  2013  \n",
       "8316   Lidio Carraro     3.9                902  45.77  2008  \n",
       "8477   Lidio Carraro     3.9                941  29.19  2012  \n",
       "8493     Don Guerino     3.3                 95  12.62  2012  "
      ]
     },
     "execution_count": 68,
     "metadata": {},
     "output_type": "execute_result"
    }
   ],
   "source": [
    "df_brasil = df[df['Country']=='Brazil']\n",
    "df_brasil"
   ]
  },
  {
   "cell_type": "code",
   "execution_count": 86,
   "metadata": {},
   "outputs": [],
   "source": [
    "sns.set_theme(style='whitegrid',palette='pastel')"
   ]
  },
  {
   "cell_type": "code",
   "execution_count": 112,
   "metadata": {},
   "outputs": [
    {
     "data": {
      "image/png": "[encoded data removed]",
      "text/plain": [
       "<Figure size 500x500 with 1 Axes>"
      ]
     },
     "metadata": {},
     "output_type": "display_data"
    }
   ],
   "source": [
    "sns.catplot(x='Rating',y='Number_Of_Ratings', color='darkblue', data=df_brasil)\n",
    "plt.title('Relação entre as notas e a quantidade de avaliações(BR)')\n",
    "plt.xlabel('Notas(Rating)')\n",
    "plt.ylabel('Quantidade_avaliações')\n",
    "plt.grid()\n",
    "plt.show()"
   ]
  },
  {
   "cell_type": "code",
   "execution_count": 97,
   "metadata": {},
   "outputs": [
    {
     "data": {
      "text/plain": [
       "Serra Gaúcha           17\n",
       "Encruzilhada do Sul    12\n",
       "Vale dos Vinhedos       5\n",
       "Rio Grande do Sul       4\n",
       "Campanha                2\n",
       "Name: Region, dtype: int64"
      ]
     },
     "execution_count": 97,
     "metadata": {},
     "output_type": "execute_result"
    }
   ],
   "source": [
    "y = df_brasil['Region'].value_counts()\n",
    "y"
   ]
  },
  {
   "cell_type": "code",
   "execution_count": 96,
   "metadata": {},
   "outputs": [
    {
     "data": {
      "text/html": [
       "<div>\n",
       "<style scoped>\n",
       "    .dataframe tbody tr th:only-of-type {\n",
       "        vertical-align: middle;\n",
       "    }\n",
       "\n",
       "    .dataframe tbody tr th {\n",
       "        vertical-align: top;\n",
       "    }\n",
       "\n",
       "    .dataframe thead th {\n",
       "        text-align: right;\n",
       "    }\n",
       "</style>\n",
       "<table border=\"1\" class=\"dataframe\">\n",
       "  <thead>\n",
       "    <tr style=\"text-align: right;\">\n",
       "      <th></th>\n",
       "      <th>Name</th>\n",
       "      <th>Country</th>\n",
       "      <th>Region</th>\n",
       "      <th>Winery</th>\n",
       "      <th>Rating</th>\n",
       "      <th>Number_Of_Ratings</th>\n",
       "      <th>Price</th>\n",
       "      <th>Year</th>\n",
       "    </tr>\n",
       "  </thead>\n",
       "  <tbody>\n",
       "    <tr>\n",
       "      <th>862</th>\n",
       "      <td>Dedicato Tannat 2013</td>\n",
       "      <td>Brazil</td>\n",
       "      <td>Serra Gaúcha</td>\n",
       "      <td>Monte Paschoal</td>\n",
       "      <td>3.9</td>\n",
       "      <td>128</td>\n",
       "      <td>15.55</td>\n",
       "      <td>2013</td>\n",
       "    </tr>\n",
       "    <tr>\n",
       "      <th>2377</th>\n",
       "      <td>Talento 2012</td>\n",
       "      <td>Brazil</td>\n",
       "      <td>Serra Gaúcha</td>\n",
       "      <td>Salton</td>\n",
       "      <td>3.8</td>\n",
       "      <td>2066</td>\n",
       "      <td>16.72</td>\n",
       "      <td>2012</td>\n",
       "    </tr>\n",
       "    <tr>\n",
       "      <th>2704</th>\n",
       "      <td>Gran Cave Merlot 2005</td>\n",
       "      <td>Brazil</td>\n",
       "      <td>Serra Gaúcha</td>\n",
       "      <td>Boscato</td>\n",
       "      <td>3.8</td>\n",
       "      <td>233</td>\n",
       "      <td>37.50</td>\n",
       "      <td>2005</td>\n",
       "    </tr>\n",
       "    <tr>\n",
       "      <th>5940</th>\n",
       "      <td>Reserva Teroldego 2016</td>\n",
       "      <td>Brazil</td>\n",
       "      <td>Serra Gaúcha</td>\n",
       "      <td>Don Guerino</td>\n",
       "      <td>3.8</td>\n",
       "      <td>499</td>\n",
       "      <td>14.57</td>\n",
       "      <td>2016</td>\n",
       "    </tr>\n",
       "  </tbody>\n",
       "</table>\n",
       "</div>"
      ],
      "text/plain": [
       "                        Name Country        Region          Winery  Rating  \\\n",
       "862     Dedicato Tannat 2013  Brazil  Serra Gaúcha  Monte Paschoal     3.9   \n",
       "2377            Talento 2012  Brazil  Serra Gaúcha          Salton     3.8   \n",
       "2704   Gran Cave Merlot 2005  Brazil  Serra Gaúcha         Boscato     3.8   \n",
       "5940  Reserva Teroldego 2016  Brazil  Serra Gaúcha     Don Guerino     3.8   \n",
       "\n",
       "      Number_Of_Ratings  Price  Year  \n",
       "862                 128  15.55  2013  \n",
       "2377               2066  16.72  2012  \n",
       "2704                233  37.50  2005  \n",
       "5940                499  14.57  2016  "
      ]
     },
     "execution_count": 96,
     "metadata": {},
     "output_type": "execute_result"
    }
   ],
   "source": [
    "df_brasil[(df_brasil['Region']=='Serra Gaúcha') & (df_brasil['Rating']>3.7)]"
   ]
  },
  {
   "cell_type": "code",
   "execution_count": 70,
   "metadata": {},
   "outputs": [
    {
     "data": {
      "text/plain": [
       "(40, 8)"
      ]
     },
     "execution_count": 70,
     "metadata": {},
     "output_type": "execute_result"
    }
   ],
   "source": [
    "df_brasil.shape"
   ]
  },
  {
   "cell_type": "code",
   "execution_count": 95,
   "metadata": {},
   "outputs": [
    {
     "data": {
      "text/html": [
       "<div>\n",
       "<style scoped>\n",
       "    .dataframe tbody tr th:only-of-type {\n",
       "        vertical-align: middle;\n",
       "    }\n",
       "\n",
       "    .dataframe tbody tr th {\n",
       "        vertical-align: top;\n",
       "    }\n",
       "\n",
       "    .dataframe thead th {\n",
       "        text-align: right;\n",
       "    }\n",
       "</style>\n",
       "<table border=\"1\" class=\"dataframe\">\n",
       "  <thead>\n",
       "    <tr style=\"text-align: right;\">\n",
       "      <th></th>\n",
       "      <th>Name</th>\n",
       "      <th>Country</th>\n",
       "      <th>Region</th>\n",
       "      <th>Winery</th>\n",
       "      <th>Rating</th>\n",
       "      <th>Number_Of_Ratings</th>\n",
       "      <th>Price</th>\n",
       "      <th>Year</th>\n",
       "    </tr>\n",
       "  </thead>\n",
       "  <tbody>\n",
       "    <tr>\n",
       "      <th>66</th>\n",
       "      <td>Fausto Tannat 2015</td>\n",
       "      <td>Brazil</td>\n",
       "      <td>Serra Gaúcha</td>\n",
       "      <td>Pizzato</td>\n",
       "      <td>3.6</td>\n",
       "      <td>1012</td>\n",
       "      <td>11.35</td>\n",
       "      <td>2015</td>\n",
       "    </tr>\n",
       "    <tr>\n",
       "      <th>862</th>\n",
       "      <td>Dedicato Tannat 2013</td>\n",
       "      <td>Brazil</td>\n",
       "      <td>Serra Gaúcha</td>\n",
       "      <td>Monte Paschoal</td>\n",
       "      <td>3.9</td>\n",
       "      <td>128</td>\n",
       "      <td>15.55</td>\n",
       "      <td>2013</td>\n",
       "    </tr>\n",
       "    <tr>\n",
       "      <th>1286</th>\n",
       "      <td>Reserva Tannat 2014</td>\n",
       "      <td>Brazil</td>\n",
       "      <td>Serra Gaúcha</td>\n",
       "      <td>Don Guerino</td>\n",
       "      <td>3.5</td>\n",
       "      <td>146</td>\n",
       "      <td>13.60</td>\n",
       "      <td>2014</td>\n",
       "    </tr>\n",
       "    <tr>\n",
       "      <th>1625</th>\n",
       "      <td>Quorum (Grande Vindima) 2008</td>\n",
       "      <td>Brazil</td>\n",
       "      <td>Vale dos Vinhedos</td>\n",
       "      <td>Lidio Carraro</td>\n",
       "      <td>4.0</td>\n",
       "      <td>1627</td>\n",
       "      <td>45.77</td>\n",
       "      <td>2008</td>\n",
       "    </tr>\n",
       "    <tr>\n",
       "      <th>1898</th>\n",
       "      <td>Cabernet Sauvignon Reserva 2012</td>\n",
       "      <td>Brazil</td>\n",
       "      <td>Vale dos Vinhedos</td>\n",
       "      <td>Pizzato</td>\n",
       "      <td>3.6</td>\n",
       "      <td>177</td>\n",
       "      <td>14.50</td>\n",
       "      <td>2012</td>\n",
       "    </tr>\n",
       "    <tr>\n",
       "      <th>2246</th>\n",
       "      <td>Identidade Gran Terroir Corte 2013</td>\n",
       "      <td>Brazil</td>\n",
       "      <td>Rio Grande do Sul</td>\n",
       "      <td>Casa Valduga</td>\n",
       "      <td>4.0</td>\n",
       "      <td>197</td>\n",
       "      <td>24.90</td>\n",
       "      <td>2013</td>\n",
       "    </tr>\n",
       "    <tr>\n",
       "      <th>2377</th>\n",
       "      <td>Talento 2012</td>\n",
       "      <td>Brazil</td>\n",
       "      <td>Serra Gaúcha</td>\n",
       "      <td>Salton</td>\n",
       "      <td>3.8</td>\n",
       "      <td>2066</td>\n",
       "      <td>16.72</td>\n",
       "      <td>2012</td>\n",
       "    </tr>\n",
       "    <tr>\n",
       "      <th>2704</th>\n",
       "      <td>Gran Cave Merlot 2005</td>\n",
       "      <td>Brazil</td>\n",
       "      <td>Serra Gaúcha</td>\n",
       "      <td>Boscato</td>\n",
       "      <td>3.8</td>\n",
       "      <td>233</td>\n",
       "      <td>37.50</td>\n",
       "      <td>2005</td>\n",
       "    </tr>\n",
       "    <tr>\n",
       "      <th>3843</th>\n",
       "      <td>Reserva Teroldego 2014</td>\n",
       "      <td>Brazil</td>\n",
       "      <td>Serra Gaúcha</td>\n",
       "      <td>Don Guerino</td>\n",
       "      <td>3.7</td>\n",
       "      <td>305</td>\n",
       "      <td>14.57</td>\n",
       "      <td>2014</td>\n",
       "    </tr>\n",
       "    <tr>\n",
       "      <th>3908</th>\n",
       "      <td>Family Vineyards Tannat 2015</td>\n",
       "      <td>Brazil</td>\n",
       "      <td>Rio Grande do Sul</td>\n",
       "      <td>Miolo</td>\n",
       "      <td>3.5</td>\n",
       "      <td>31</td>\n",
       "      <td>11.19</td>\n",
       "      <td>2015</td>\n",
       "    </tr>\n",
       "    <tr>\n",
       "      <th>4107</th>\n",
       "      <td>Tannat (Grande Vindima) 2010</td>\n",
       "      <td>Brazil</td>\n",
       "      <td>Encruzilhada do Sul</td>\n",
       "      <td>Lidio Carraro</td>\n",
       "      <td>4.0</td>\n",
       "      <td>326</td>\n",
       "      <td>73.06</td>\n",
       "      <td>2010</td>\n",
       "    </tr>\n",
       "    <tr>\n",
       "      <th>5764</th>\n",
       "      <td>Da'Divas Tempranillo 2012</td>\n",
       "      <td>Brazil</td>\n",
       "      <td>Encruzilhada do Sul</td>\n",
       "      <td>Lidio Carraro</td>\n",
       "      <td>3.5</td>\n",
       "      <td>479</td>\n",
       "      <td>14.57</td>\n",
       "      <td>2012</td>\n",
       "    </tr>\n",
       "    <tr>\n",
       "      <th>5835</th>\n",
       "      <td>Lote 43 Cabernet Sauvignon - Merlot 2012</td>\n",
       "      <td>Brazil</td>\n",
       "      <td>Vale dos Vinhedos</td>\n",
       "      <td>Miolo</td>\n",
       "      <td>4.2</td>\n",
       "      <td>4846</td>\n",
       "      <td>22.90</td>\n",
       "      <td>2012</td>\n",
       "    </tr>\n",
       "    <tr>\n",
       "      <th>5940</th>\n",
       "      <td>Reserva Teroldego 2016</td>\n",
       "      <td>Brazil</td>\n",
       "      <td>Serra Gaúcha</td>\n",
       "      <td>Don Guerino</td>\n",
       "      <td>3.8</td>\n",
       "      <td>499</td>\n",
       "      <td>14.57</td>\n",
       "      <td>2016</td>\n",
       "    </tr>\n",
       "    <tr>\n",
       "      <th>6154</th>\n",
       "      <td>Elos Cabernet Sauvignon - Malbec 2011</td>\n",
       "      <td>Brazil</td>\n",
       "      <td>Encruzilhada do Sul</td>\n",
       "      <td>Lidio Carraro</td>\n",
       "      <td>3.7</td>\n",
       "      <td>524</td>\n",
       "      <td>29.19</td>\n",
       "      <td>2011</td>\n",
       "    </tr>\n",
       "    <tr>\n",
       "      <th>6242</th>\n",
       "      <td>Fausto Merlot 2015</td>\n",
       "      <td>Brazil</td>\n",
       "      <td>Serra Gaúcha</td>\n",
       "      <td>Pizzato</td>\n",
       "      <td>3.5</td>\n",
       "      <td>538</td>\n",
       "      <td>11.45</td>\n",
       "      <td>2015</td>\n",
       "    </tr>\n",
       "    <tr>\n",
       "      <th>7359</th>\n",
       "      <td>Da'Divas Tempranillo 2016</td>\n",
       "      <td>Brazil</td>\n",
       "      <td>Encruzilhada do Sul</td>\n",
       "      <td>Lidio Carraro</td>\n",
       "      <td>3.6</td>\n",
       "      <td>701</td>\n",
       "      <td>16.52</td>\n",
       "      <td>2016</td>\n",
       "    </tr>\n",
       "    <tr>\n",
       "      <th>7860</th>\n",
       "      <td>Seival Tannat 2012</td>\n",
       "      <td>Brazil</td>\n",
       "      <td>Campanha</td>\n",
       "      <td>Miolo</td>\n",
       "      <td>3.6</td>\n",
       "      <td>80</td>\n",
       "      <td>11.50</td>\n",
       "      <td>2012</td>\n",
       "    </tr>\n",
       "    <tr>\n",
       "      <th>7935</th>\n",
       "      <td>Quorum (Grande Vindima) 2006</td>\n",
       "      <td>Brazil</td>\n",
       "      <td>Vale dos Vinhedos</td>\n",
       "      <td>Lidio Carraro</td>\n",
       "      <td>3.9</td>\n",
       "      <td>819</td>\n",
       "      <td>45.77</td>\n",
       "      <td>2006</td>\n",
       "    </tr>\n",
       "    <tr>\n",
       "      <th>7982</th>\n",
       "      <td>Fausto Merlot 2016</td>\n",
       "      <td>Brazil</td>\n",
       "      <td>Serra Gaúcha</td>\n",
       "      <td>Pizzato</td>\n",
       "      <td>3.5</td>\n",
       "      <td>829</td>\n",
       "      <td>11.45</td>\n",
       "      <td>2016</td>\n",
       "    </tr>\n",
       "    <tr>\n",
       "      <th>8072</th>\n",
       "      <td>Reserva Merlot 2016</td>\n",
       "      <td>Brazil</td>\n",
       "      <td>Serra Gaúcha</td>\n",
       "      <td>Don Guerino</td>\n",
       "      <td>3.7</td>\n",
       "      <td>85</td>\n",
       "      <td>12.62</td>\n",
       "      <td>2016</td>\n",
       "    </tr>\n",
       "    <tr>\n",
       "      <th>8316</th>\n",
       "      <td>Merlot (Grande Vindima) 2008</td>\n",
       "      <td>Brazil</td>\n",
       "      <td>Encruzilhada do Sul</td>\n",
       "      <td>Lidio Carraro</td>\n",
       "      <td>3.9</td>\n",
       "      <td>902</td>\n",
       "      <td>45.77</td>\n",
       "      <td>2008</td>\n",
       "    </tr>\n",
       "    <tr>\n",
       "      <th>8477</th>\n",
       "      <td>Elos Touriga Nacional - Tannat 2012</td>\n",
       "      <td>Brazil</td>\n",
       "      <td>Encruzilhada do Sul</td>\n",
       "      <td>Lidio Carraro</td>\n",
       "      <td>3.9</td>\n",
       "      <td>941</td>\n",
       "      <td>29.19</td>\n",
       "      <td>2012</td>\n",
       "    </tr>\n",
       "  </tbody>\n",
       "</table>\n",
       "</div>"
      ],
      "text/plain": [
       "                                          Name Country               Region  \\\n",
       "66                          Fausto Tannat 2015  Brazil         Serra Gaúcha   \n",
       "862                       Dedicato Tannat 2013  Brazil         Serra Gaúcha   \n",
       "1286                       Reserva Tannat 2014  Brazil         Serra Gaúcha   \n",
       "1625              Quorum (Grande Vindima) 2008  Brazil    Vale dos Vinhedos   \n",
       "1898           Cabernet Sauvignon Reserva 2012  Brazil    Vale dos Vinhedos   \n",
       "2246        Identidade Gran Terroir Corte 2013  Brazil    Rio Grande do Sul   \n",
       "2377                              Talento 2012  Brazil         Serra Gaúcha   \n",
       "2704                     Gran Cave Merlot 2005  Brazil         Serra Gaúcha   \n",
       "3843                    Reserva Teroldego 2014  Brazil         Serra Gaúcha   \n",
       "3908              Family Vineyards Tannat 2015  Brazil    Rio Grande do Sul   \n",
       "4107              Tannat (Grande Vindima) 2010  Brazil  Encruzilhada do Sul   \n",
       "5764                 Da'Divas Tempranillo 2012  Brazil  Encruzilhada do Sul   \n",
       "5835  Lote 43 Cabernet Sauvignon - Merlot 2012  Brazil    Vale dos Vinhedos   \n",
       "5940                    Reserva Teroldego 2016  Brazil         Serra Gaúcha   \n",
       "6154     Elos Cabernet Sauvignon - Malbec 2011  Brazil  Encruzilhada do Sul   \n",
       "6242                        Fausto Merlot 2015  Brazil         Serra Gaúcha   \n",
       "7359                 Da'Divas Tempranillo 2016  Brazil  Encruzilhada do Sul   \n",
       "7860                        Seival Tannat 2012  Brazil             Campanha   \n",
       "7935              Quorum (Grande Vindima) 2006  Brazil    Vale dos Vinhedos   \n",
       "7982                        Fausto Merlot 2016  Brazil         Serra Gaúcha   \n",
       "8072                       Reserva Merlot 2016  Brazil         Serra Gaúcha   \n",
       "8316              Merlot (Grande Vindima) 2008  Brazil  Encruzilhada do Sul   \n",
       "8477       Elos Touriga Nacional - Tannat 2012  Brazil  Encruzilhada do Sul   \n",
       "\n",
       "              Winery  Rating  Number_Of_Ratings  Price  Year  \n",
       "66           Pizzato     3.6               1012  11.35  2015  \n",
       "862   Monte Paschoal     3.9                128  15.55  2013  \n",
       "1286     Don Guerino     3.5                146  13.60  2014  \n",
       "1625   Lidio Carraro     4.0               1627  45.77  2008  \n",
       "1898         Pizzato     3.6                177  14.50  2012  \n",
       "2246    Casa Valduga     4.0                197  24.90  2013  \n",
       "2377          Salton     3.8               2066  16.72  2012  \n",
       "2704         Boscato     3.8                233  37.50  2005  \n",
       "3843     Don Guerino     3.7                305  14.57  2014  \n",
       "3908           Miolo     3.5                 31  11.19  2015  \n",
       "4107   Lidio Carraro     4.0                326  73.06  2010  \n",
       "5764   Lidio Carraro     3.5                479  14.57  2012  \n",
       "5835           Miolo     4.2               4846  22.90  2012  \n",
       "5940     Don Guerino     3.8                499  14.57  2016  \n",
       "6154   Lidio Carraro     3.7                524  29.19  2011  \n",
       "6242         Pizzato     3.5                538  11.45  2015  \n",
       "7359   Lidio Carraro     3.6                701  16.52  2016  \n",
       "7860           Miolo     3.6                 80  11.50  2012  \n",
       "7935   Lidio Carraro     3.9                819  45.77  2006  \n",
       "7982         Pizzato     3.5                829  11.45  2016  \n",
       "8072     Don Guerino     3.7                 85  12.62  2016  \n",
       "8316   Lidio Carraro     3.9                902  45.77  2008  \n",
       "8477   Lidio Carraro     3.9                941  29.19  2012  "
      ]
     },
     "execution_count": 95,
     "metadata": {},
     "output_type": "execute_result"
    }
   ],
   "source": [
    "df_brasil[df_brasil['Rating']>=3.5]"
   ]
  },
  {
   "cell_type": "code",
   "execution_count": 101,
   "metadata": {},
   "outputs": [
    {
     "data": {
      "text/html": [
       "<div>\n",
       "<style scoped>\n",
       "    .dataframe tbody tr th:only-of-type {\n",
       "        vertical-align: middle;\n",
       "    }\n",
       "\n",
       "    .dataframe tbody tr th {\n",
       "        vertical-align: top;\n",
       "    }\n",
       "\n",
       "    .dataframe thead th {\n",
       "        text-align: right;\n",
       "    }\n",
       "</style>\n",
       "<table border=\"1\" class=\"dataframe\">\n",
       "  <thead>\n",
       "    <tr style=\"text-align: right;\">\n",
       "      <th></th>\n",
       "      <th>Name</th>\n",
       "      <th>Country</th>\n",
       "      <th>Region</th>\n",
       "      <th>Winery</th>\n",
       "      <th>Rating</th>\n",
       "      <th>Number_Of_Ratings</th>\n",
       "      <th>Price</th>\n",
       "      <th>Year</th>\n",
       "    </tr>\n",
       "  </thead>\n",
       "  <tbody>\n",
       "    <tr>\n",
       "      <th>7</th>\n",
       "      <td>Red Blend 2014</td>\n",
       "      <td>Chile</td>\n",
       "      <td>Itata Valley</td>\n",
       "      <td>Viña La Causa</td>\n",
       "      <td>3.9</td>\n",
       "      <td>100</td>\n",
       "      <td>17.52</td>\n",
       "      <td>2014</td>\n",
       "    </tr>\n",
       "    <tr>\n",
       "      <th>45</th>\n",
       "      <td>Cabernet Sauvignon 2018</td>\n",
       "      <td>Chile</td>\n",
       "      <td>Central Valley</td>\n",
       "      <td>Valdivieso</td>\n",
       "      <td>3.3</td>\n",
       "      <td>101</td>\n",
       "      <td>7.60</td>\n",
       "      <td>2018</td>\n",
       "    </tr>\n",
       "    <tr>\n",
       "      <th>128</th>\n",
       "      <td>Barbera - Garnacha 2017</td>\n",
       "      <td>Chile</td>\n",
       "      <td>Maule Valley</td>\n",
       "      <td>Erasmo</td>\n",
       "      <td>3.5</td>\n",
       "      <td>103</td>\n",
       "      <td>12.62</td>\n",
       "      <td>2017</td>\n",
       "    </tr>\n",
       "    <tr>\n",
       "      <th>199</th>\n",
       "      <td>Gran Verano Cabernet Sauvignon 2018</td>\n",
       "      <td>Chile</td>\n",
       "      <td>Central Valley</td>\n",
       "      <td>Apaltagua</td>\n",
       "      <td>3.4</td>\n",
       "      <td>1059</td>\n",
       "      <td>6.95</td>\n",
       "      <td>2018</td>\n",
       "    </tr>\n",
       "    <tr>\n",
       "      <th>231</th>\n",
       "      <td>Hussonet Cabernet Sauvignon Gran Reserva 2015</td>\n",
       "      <td>Chile</td>\n",
       "      <td>Maipo Valley</td>\n",
       "      <td>Haras de Pirque</td>\n",
       "      <td>3.7</td>\n",
       "      <td>1060</td>\n",
       "      <td>15.95</td>\n",
       "      <td>2015</td>\n",
       "    </tr>\n",
       "    <tr>\n",
       "      <th>...</th>\n",
       "      <td>...</td>\n",
       "      <td>...</td>\n",
       "      <td>...</td>\n",
       "      <td>...</td>\n",
       "      <td>...</td>\n",
       "      <td>...</td>\n",
       "      <td>...</td>\n",
       "      <td>...</td>\n",
       "    </tr>\n",
       "    <tr>\n",
       "      <th>8445</th>\n",
       "      <td>Merlot 2017</td>\n",
       "      <td>Chile</td>\n",
       "      <td>Casablanca Valley</td>\n",
       "      <td>Veramonte</td>\n",
       "      <td>3.5</td>\n",
       "      <td>94</td>\n",
       "      <td>8.72</td>\n",
       "      <td>2017</td>\n",
       "    </tr>\n",
       "    <tr>\n",
       "      <th>8496</th>\n",
       "      <td>Edición Limitada A 2015</td>\n",
       "      <td>Chile</td>\n",
       "      <td>Colchagua Valley</td>\n",
       "      <td>Caliterra</td>\n",
       "      <td>3.9</td>\n",
       "      <td>95</td>\n",
       "      <td>15.98</td>\n",
       "      <td>2015</td>\n",
       "    </tr>\n",
       "    <tr>\n",
       "      <th>8516</th>\n",
       "      <td>Reserva Cuvée Colchagua Carmenère 2019</td>\n",
       "      <td>Chile</td>\n",
       "      <td>Colchagua Valley</td>\n",
       "      <td>Casa Silva</td>\n",
       "      <td>3.8</td>\n",
       "      <td>95</td>\n",
       "      <td>10.43</td>\n",
       "      <td>2019</td>\n",
       "    </tr>\n",
       "    <tr>\n",
       "      <th>8556</th>\n",
       "      <td>Gran Verano Carmenère 2018</td>\n",
       "      <td>Chile</td>\n",
       "      <td>Central Valley</td>\n",
       "      <td>Apaltagua</td>\n",
       "      <td>3.5</td>\n",
       "      <td>965</td>\n",
       "      <td>6.95</td>\n",
       "      <td>2018</td>\n",
       "    </tr>\n",
       "    <tr>\n",
       "      <th>8647</th>\n",
       "      <td>La Cumbre Syrah 2016</td>\n",
       "      <td>Chile</td>\n",
       "      <td>Aconcagua Valley</td>\n",
       "      <td>Errazuriz</td>\n",
       "      <td>4.2</td>\n",
       "      <td>99</td>\n",
       "      <td>76.76</td>\n",
       "      <td>2016</td>\n",
       "    </tr>\n",
       "  </tbody>\n",
       "</table>\n",
       "<p>326 rows × 8 columns</p>\n",
       "</div>"
      ],
      "text/plain": [
       "                                               Name Country  \\\n",
       "7                                    Red Blend 2014   Chile   \n",
       "45                          Cabernet Sauvignon 2018   Chile   \n",
       "128                         Barbera - Garnacha 2017   Chile   \n",
       "199             Gran Verano Cabernet Sauvignon 2018   Chile   \n",
       "231   Hussonet Cabernet Sauvignon Gran Reserva 2015   Chile   \n",
       "...                                             ...     ...   \n",
       "8445                                    Merlot 2017   Chile   \n",
       "8496                        Edición Limitada A 2015   Chile   \n",
       "8516         Reserva Cuvée Colchagua Carmenère 2019   Chile   \n",
       "8556                     Gran Verano Carmenère 2018   Chile   \n",
       "8647                           La Cumbre Syrah 2016   Chile   \n",
       "\n",
       "                 Region           Winery  Rating  Number_Of_Ratings  Price  \\\n",
       "7          Itata Valley    Viña La Causa     3.9                100  17.52   \n",
       "45       Central Valley       Valdivieso     3.3                101   7.60   \n",
       "128        Maule Valley           Erasmo     3.5                103  12.62   \n",
       "199      Central Valley        Apaltagua     3.4               1059   6.95   \n",
       "231        Maipo Valley  Haras de Pirque     3.7               1060  15.95   \n",
       "...                 ...              ...     ...                ...    ...   \n",
       "8445  Casablanca Valley        Veramonte     3.5                 94   8.72   \n",
       "8496   Colchagua Valley        Caliterra     3.9                 95  15.98   \n",
       "8516   Colchagua Valley       Casa Silva     3.8                 95  10.43   \n",
       "8556     Central Valley        Apaltagua     3.5                965   6.95   \n",
       "8647   Aconcagua Valley        Errazuriz     4.2                 99  76.76   \n",
       "\n",
       "      Year  \n",
       "7     2014  \n",
       "45    2018  \n",
       "128   2017  \n",
       "199   2018  \n",
       "231   2015  \n",
       "...    ...  \n",
       "8445  2017  \n",
       "8496  2015  \n",
       "8516  2019  \n",
       "8556  2018  \n",
       "8647  2016  \n",
       "\n",
       "[326 rows x 8 columns]"
      ]
     },
     "execution_count": 101,
     "metadata": {},
     "output_type": "execute_result"
    }
   ],
   "source": [
    "df_chile = df[df['Country']=='Chile']\n",
    "df_chile"
   ]
  },
  {
   "cell_type": "code",
   "execution_count": 110,
   "metadata": {},
   "outputs": [
    {
     "data": {
      "text/plain": [
       "count    326.000000\n",
       "mean      21.492883\n",
       "std       27.858362\n",
       "min        4.250000\n",
       "25%        8.500000\n",
       "50%       12.375000\n",
       "75%       19.300000\n",
       "max      239.000000\n",
       "Name: Price, dtype: float64"
      ]
     },
     "execution_count": 110,
     "metadata": {},
     "output_type": "execute_result"
    }
   ],
   "source": [
    "df_chile['Price'].describe()"
   ]
  },
  {
   "cell_type": "code",
   "execution_count": 109,
   "metadata": {},
   "outputs": [
    {
     "data": {
      "application/vnd.plotly.v1+json": {
       "config": {
        "plotlyServerURL": "https://plot.ly"
       },
       "data": [
        {
         "alignmentgroup": "True",
         "boxpoints": "all",
         "hovertemplate": "Price=%{y}<extra></extra>",
         "legendgroup": "",
         "marker": {
          "color": "#636efa"
         },
         "name": "",
         "notched": false,
         "offsetgroup": "",
         "orientation": "v",
         "showlegend": false,
         "type": "box",
         "x0": " ",
         "xaxis": "x",
         "y": [
          17.52,
          7.6,
          12.62,
          6.95,
          15.95,
          9.64,
          28.9,
          21.45,
          11.65,
          83.6,
          20.42,
          6.33,
          38.94,
          14.4,
          11.8,
          11.47,
          106.15,
          12.5,
          12.62,
          63.27,
          27.2,
          7.5,
          11.55,
          9.99,
          14.57,
          14.5,
          15.5,
          9.65,
          16.5,
          5.95,
          10.5,
          6.9,
          57.42,
          14.57,
          34.07,
          7.8,
          28.83,
          8.5,
          7.5,
          9.36,
          14.9,
          27.2,
          15.13,
          9.49,
          16.38,
          18,
          13.9,
          28.95,
          6.5,
          8.49,
          7.53,
          11.47,
          11.19,
          8.64,
          19.3,
          13.15,
          6.95,
          13.95,
          6.34,
          125.74,
          9.9,
          16.27,
          14.57,
          10.71,
          6.99,
          239,
          11.47,
          11.9,
          9.65,
          15.49,
          12.19,
          67.26,
          9.99,
          7.32,
          14.57,
          13.55,
          6.95,
          8.28,
          63.15,
          40.81,
          13.82,
          70.72,
          58,
          21.89,
          9.9,
          6.33,
          7.27,
          11.56,
          8.72,
          109,
          14.13,
          27.2,
          55,
          10.23,
          193.01,
          12.5,
          27.2,
          10.5,
          9.5,
          63.39,
          8.45,
          57.42,
          19.9,
          6.5,
          6.2,
          14.53,
          15.13,
          6.54,
          12.94,
          16.48,
          15.69,
          9.95,
          11.9,
          25.13,
          18.41,
          15.9,
          14.9,
          79.34,
          121.75,
          23.4,
          16.95,
          16.9,
          41.9,
          18.52,
          40.09,
          14.5,
          8.19,
          14.9,
          14.5,
          7.66,
          12.25,
          26.5,
          9.05,
          21.15,
          9.7,
          6.77,
          9.5,
          49,
          6.73,
          16.95,
          9.79,
          20.54,
          12.14,
          7.5,
          14.89,
          10.51,
          8.49,
          18.42,
          30.81,
          10.66,
          6.84,
          27.96,
          13.5,
          11.5,
          18.9,
          36.56,
          4.25,
          20.49,
          12.19,
          5.43,
          10.5,
          8.69,
          6.9,
          10.62,
          8.65,
          6.83,
          25.35,
          7.6,
          13.5,
          28.9,
          14.57,
          15.19,
          6.35,
          19.3,
          8.72,
          10.5,
          6.75,
          8.5,
          5.5,
          21.05,
          21.45,
          4.85,
          15.79,
          6.77,
          11.83,
          15.39,
          13.55,
          8.45,
          13.5,
          16.32,
          173.63,
          15.79,
          78.49,
          15.26,
          6.5,
          22.22,
          8.69,
          13.55,
          7.89,
          92,
          8.5,
          10.5,
          11.95,
          6.33,
          7.9,
          28.95,
          13.49,
          12.19,
          6.5,
          6.5,
          52.46,
          18.9,
          6.09,
          6.33,
          29.95,
          15.3,
          5.54,
          5.33,
          12.65,
          131.6,
          6.03,
          31.19,
          6.33,
          8.28,
          10.89,
          6.9,
          9.45,
          12.6,
          10.15,
          4.89,
          9.49,
          9.5,
          8.44,
          8.5,
          5.33,
          12.62,
          6.34,
          9.7,
          5.65,
          6.53,
          14.5,
          8.49,
          7.66,
          9.64,
          8.9,
          13.55,
          14.5,
          21.45,
          21.45,
          77.88,
          8.45,
          10.95,
          7.89,
          21.45,
          9.5,
          24.2,
          83.6,
          35.09,
          9.7,
          9.5,
          7.32,
          8.72,
          67.26,
          6.33,
          9.65,
          6.77,
          12.95,
          12.6,
          9.4,
          112.1,
          6.75,
          14.13,
          8.45,
          53.5,
          43.99,
          6,
          10.5,
          13.89,
          16.17,
          7.27,
          46.34,
          4.76,
          38.02,
          46.65,
          12.25,
          22.9,
          9.46,
          9.39,
          10.15,
          6.89,
          13.49,
          20.5,
          7.94,
          6.75,
          46.6,
          8.5,
          16.5,
          8.9,
          8.89,
          16.74,
          6.75,
          7.9,
          14.5,
          84.09,
          8.99,
          16.09,
          15.78,
          7.63,
          8.63,
          13.9,
          7.89,
          87.64,
          53.61,
          77.01,
          13.95,
          56.95,
          9.5,
          38.94,
          8.9,
          20.54,
          14.5,
          8.72,
          15.98,
          10.43,
          6.95,
          76.76
         ],
         "y0": " ",
         "yaxis": "y"
        }
       ],
       "layout": {
        "boxmode": "group",
        "legend": {
         "tracegroupgap": 0
        },
        "margin": {
         "t": 60
        },
        "template": {
         "data": {
          "bar": [
           {
            "error_x": {
             "color": "#2a3f5f"
            },
            "error_y": {
             "color": "#2a3f5f"
            },
            "marker": {
             "line": {
              "color": "#E5ECF6",
              "width": 0.5
             },
             "pattern": {
              "fillmode": "overlay",
              "size": 10,
              "solidity": 0.2
             }
            },
            "type": "bar"
           }
          ],
          "barpolar": [
           {
            "marker": {
             "line": {
              "color": "#E5ECF6",
              "width": 0.5
             },
             "pattern": {
              "fillmode": "overlay",
              "size": 10,
              "solidity": 0.2
             }
            },
            "type": "barpolar"
           }
          ],
          "carpet": [
           {
            "aaxis": {
             "endlinecolor": "#2a3f5f",
             "gridcolor": "white",
             "linecolor": "white",
             "minorgridcolor": "white",
             "startlinecolor": "#2a3f5f"
            },
            "baxis": {
             "endlinecolor": "#2a3f5f",
             "gridcolor": "white",
             "linecolor": "white",
             "minorgridcolor": "white",
             "startlinecolor": "#2a3f5f"
            },
            "type": "carpet"
           }
          ],
          "choropleth": [
           {
            "colorbar": {
             "outlinewidth": 0,
             "ticks": ""
            },
            "type": "choropleth"
           }
          ],
          "contour": [
           {
            "colorbar": {
             "outlinewidth": 0,
             "ticks": ""
            },
            "colorscale": [
             [
              0,
              "#0d0887"
             ],
             [
              0.1111111111111111,
              "#46039f"
             ],
             [
              0.2222222222222222,
              "#7201a8"
             ],
             [
              0.3333333333333333,
              "#9c179e"
             ],
             [
              0.4444444444444444,
              "#bd3786"
             ],
             [
              0.5555555555555556,
              "#d8576b"
             ],
             [
              0.6666666666666666,
              "#ed7953"
             ],
             [
              0.7777777777777778,
              "#fb9f3a"
             ],
             [
              0.8888888888888888,
              "#fdca26"
             ],
             [
              1,
              "#f0f921"
             ]
            ],
            "type": "contour"
           }
          ],
          "contourcarpet": [
           {
            "colorbar": {
             "outlinewidth": 0,
             "ticks": ""
            },
            "type": "contourcarpet"
           }
          ],
          "heatmap": [
           {
            "colorbar": {
             "outlinewidth": 0,
             "ticks": ""
            },
            "colorscale": [
             [
              0,
              "#0d0887"
             ],
             [
              0.1111111111111111,
              "#46039f"
             ],
             [
              0.2222222222222222,
              "#7201a8"
             ],
             [
              0.3333333333333333,
              "#9c179e"
             ],
             [
              0.4444444444444444,
              "#bd3786"
             ],
             [
              0.5555555555555556,
              "#d8576b"
             ],
             [
              0.6666666666666666,
              "#ed7953"
             ],
             [
              0.7777777777777778,
              "#fb9f3a"
             ],
             [
              0.8888888888888888,
              "#fdca26"
             ],
             [
              1,
              "#f0f921"
             ]
            ],
            "type": "heatmap"
           }
          ],
          "heatmapgl": [
           {
            "colorbar": {
             "outlinewidth": 0,
             "ticks": ""
            },
            "colorscale": [
             [
              0,
              "#0d0887"
             ],
             [
              0.1111111111111111,
              "#46039f"
             ],
             [
              0.2222222222222222,
              "#7201a8"
             ],
             [
              0.3333333333333333,
              "#9c179e"
             ],
             [
              0.4444444444444444,
              "#bd3786"
             ],
             [
              0.5555555555555556,
              "#d8576b"
             ],
             [
              0.6666666666666666,
              "#ed7953"
             ],
             [
              0.7777777777777778,
              "#fb9f3a"
             ],
             [
              0.8888888888888888,
              "#fdca26"
             ],
             [
              1,
              "#f0f921"
             ]
            ],
            "type": "heatmapgl"
           }
          ],
          "histogram": [
           {
            "marker": {
             "pattern": {
              "fillmode": "overlay",
              "size": 10,
              "solidity": 0.2
             }
            },
            "type": "histogram"
           }
          ],
          "histogram2d": [
           {
            "colorbar": {
             "outlinewidth": 0,
             "ticks": ""
            },
            "colorscale": [
             [
              0,
              "#0d0887"
             ],
             [
              0.1111111111111111,
              "#46039f"
             ],
             [
              0.2222222222222222,
              "#7201a8"
             ],
             [
              0.3333333333333333,
              "#9c179e"
             ],
             [
              0.4444444444444444,
              "#bd3786"
             ],
             [
              0.5555555555555556,
              "#d8576b"
             ],
             [
              0.6666666666666666,
              "#ed7953"
             ],
             [
              0.7777777777777778,
              "#fb9f3a"
             ],
             [
              0.8888888888888888,
              "#fdca26"
             ],
             [
              1,
              "#f0f921"
             ]
            ],
            "type": "histogram2d"
           }
          ],
          "histogram2dcontour": [
           {
            "colorbar": {
             "outlinewidth": 0,
             "ticks": ""
            },
            "colorscale": [
             [
              0,
              "#0d0887"
             ],
             [
              0.1111111111111111,
              "#46039f"
             ],
             [
              0.2222222222222222,
              "#7201a8"
             ],
             [
              0.3333333333333333,
              "#9c179e"
             ],
             [
              0.4444444444444444,
              "#bd3786"
             ],
             [
              0.5555555555555556,
              "#d8576b"
             ],
             [
              0.6666666666666666,
              "#ed7953"
             ],
             [
              0.7777777777777778,
              "#fb9f3a"
             ],
             [
              0.8888888888888888,
              "#fdca26"
             ],
             [
              1,
              "#f0f921"
             ]
            ],
            "type": "histogram2dcontour"
           }
          ],
          "mesh3d": [
           {
            "colorbar": {
             "outlinewidth": 0,
             "ticks": ""
            },
            "type": "mesh3d"
           }
          ],
          "parcoords": [
           {
            "line": {
             "colorbar": {
              "outlinewidth": 0,
              "ticks": ""
             }
            },
            "type": "parcoords"
           }
          ],
          "pie": [
           {
            "automargin": true,
            "type": "pie"
           }
          ],
          "scatter": [
           {
            "fillpattern": {
             "fillmode": "overlay",
             "size": 10,
             "solidity": 0.2
            },
            "type": "scatter"
           }
          ],
          "scatter3d": [
           {
            "line": {
             "colorbar": {
              "outlinewidth": 0,
              "ticks": ""
             }
            },
            "marker": {
             "colorbar": {
              "outlinewidth": 0,
              "ticks": ""
             }
            },
            "type": "scatter3d"
           }
          ],
          "scattercarpet": [
           {
            "marker": {
             "colorbar": {
              "outlinewidth": 0,
              "ticks": ""
             }
            },
            "type": "scattercarpet"
           }
          ],
          "scattergeo": [
           {
            "marker": {
             "colorbar": {
              "outlinewidth": 0,
              "ticks": ""
             }
            },
            "type": "scattergeo"
           }
          ],
          "scattergl": [
           {
            "marker": {
             "colorbar": {
              "outlinewidth": 0,
              "ticks": ""
             }
            },
            "type": "scattergl"
           }
          ],
          "scattermapbox": [
           {
            "marker": {
             "colorbar": {
              "outlinewidth": 0,
              "ticks": ""
             }
            },
            "type": "scattermapbox"
           }
          ],
          "scatterpolar": [
           {
            "marker": {
             "colorbar": {
              "outlinewidth": 0,
              "ticks": ""
             }
            },
            "type": "scatterpolar"
           }
          ],
          "scatterpolargl": [
           {
            "marker": {
             "colorbar": {
              "outlinewidth": 0,
              "ticks": ""
             }
            },
            "type": "scatterpolargl"
           }
          ],
          "scatterternary": [
           {
            "marker": {
             "colorbar": {
              "outlinewidth": 0,
              "ticks": ""
             }
            },
            "type": "scatterternary"
           }
          ],
          "surface": [
           {
            "colorbar": {
             "outlinewidth": 0,
             "ticks": ""
            },
            "colorscale": [
             [
              0,
              "#0d0887"
             ],
             [
              0.1111111111111111,
              "#46039f"
             ],
             [
              0.2222222222222222,
              "#7201a8"
             ],
             [
              0.3333333333333333,
              "#9c179e"
             ],
             [
              0.4444444444444444,
              "#bd3786"
             ],
             [
              0.5555555555555556,
              "#d8576b"
             ],
             [
              0.6666666666666666,
              "#ed7953"
             ],
             [
              0.7777777777777778,
              "#fb9f3a"
             ],
             [
              0.8888888888888888,
              "#fdca26"
             ],
             [
              1,
              "#f0f921"
             ]
            ],
            "type": "surface"
           }
          ],
          "table": [
           {
            "cells": {
             "fill": {
              "color": "#EBF0F8"
             },
             "line": {
              "color": "white"
             }
            },
            "header": {
             "fill": {
              "color": "#C8D4E3"
             },
             "line": {
              "color": "white"
             }
            },
            "type": "table"
           }
          ]
         },
         "layout": {
          "annotationdefaults": {
           "arrowcolor": "#2a3f5f",
           "arrowhead": 0,
           "arrowwidth": 1
          },
          "autotypenumbers": "strict",
          "coloraxis": {
           "colorbar": {
            "outlinewidth": 0,
            "ticks": ""
           }
          },
          "colorscale": {
           "diverging": [
            [
             0,
             "#8e0152"
            ],
            [
             0.1,
             "#c51b7d"
            ],
            [
             0.2,
             "#de77ae"
            ],
            [
             0.3,
             "#f1b6da"
            ],
            [
             0.4,
             "#fde0ef"
            ],
            [
             0.5,
             "#f7f7f7"
            ],
            [
             0.6,
             "#e6f5d0"
            ],
            [
             0.7,
             "#b8e186"
            ],
            [
             0.8,
             "#7fbc41"
            ],
            [
             0.9,
             "#4d9221"
            ],
            [
             1,
             "#276419"
            ]
           ],
           "sequential": [
            [
             0,
             "#0d0887"
            ],
            [
             0.1111111111111111,
             "#46039f"
            ],
            [
             0.2222222222222222,
             "#7201a8"
            ],
            [
             0.3333333333333333,
             "#9c179e"
            ],
            [
             0.4444444444444444,
             "#bd3786"
            ],
            [
             0.5555555555555556,
             "#d8576b"
            ],
            [
             0.6666666666666666,
             "#ed7953"
            ],
            [
             0.7777777777777778,
             "#fb9f3a"
            ],
            [
             0.8888888888888888,
             "#fdca26"
            ],
            [
             1,
             "#f0f921"
            ]
           ],
           "sequentialminus": [
            [
             0,
             "#0d0887"
            ],
            [
             0.1111111111111111,
             "#46039f"
            ],
            [
             0.2222222222222222,
             "#7201a8"
            ],
            [
             0.3333333333333333,
             "#9c179e"
            ],
            [
             0.4444444444444444,
             "#bd3786"
            ],
            [
             0.5555555555555556,
             "#d8576b"
            ],
            [
             0.6666666666666666,
             "#ed7953"
            ],
            [
             0.7777777777777778,
             "#fb9f3a"
            ],
            [
             0.8888888888888888,
             "#fdca26"
            ],
            [
             1,
             "#f0f921"
            ]
           ]
          },
          "colorway": [
           "#636efa",
           "#EF553B",
           "#00cc96",
           "#ab63fa",
           "#FFA15A",
           "#19d3f3",
           "#FF6692",
           "#B6E880",
           "#FF97FF",
           "#FECB52"
          ],
          "font": {
           "color": "#2a3f5f"
          },
          "geo": {
           "bgcolor": "white",
           "lakecolor": "white",
           "landcolor": "#E5ECF6",
           "showlakes": true,
           "showland": true,
           "subunitcolor": "white"
          },
          "hoverlabel": {
           "align": "left"
          },
          "hovermode": "closest",
          "mapbox": {
           "style": "light"
          },
          "paper_bgcolor": "white",
          "plot_bgcolor": "#E5ECF6",
          "polar": {
           "angularaxis": {
            "gridcolor": "white",
            "linecolor": "white",
            "ticks": ""
           },
           "bgcolor": "#E5ECF6",
           "radialaxis": {
            "gridcolor": "white",
            "linecolor": "white",
            "ticks": ""
           }
          },
          "scene": {
           "xaxis": {
            "backgroundcolor": "#E5ECF6",
            "gridcolor": "white",
            "gridwidth": 2,
            "linecolor": "white",
            "showbackground": true,
            "ticks": "",
            "zerolinecolor": "white"
           },
           "yaxis": {
            "backgroundcolor": "#E5ECF6",
            "gridcolor": "white",
            "gridwidth": 2,
            "linecolor": "white",
            "showbackground": true,
            "ticks": "",
            "zerolinecolor": "white"
           },
           "zaxis": {
            "backgroundcolor": "#E5ECF6",
            "gridcolor": "white",
            "gridwidth": 2,
            "linecolor": "white",
            "showbackground": true,
            "ticks": "",
            "zerolinecolor": "white"
           }
          },
          "shapedefaults": {
           "line": {
            "color": "#2a3f5f"
           }
          },
          "ternary": {
           "aaxis": {
            "gridcolor": "white",
            "linecolor": "white",
            "ticks": ""
           },
           "baxis": {
            "gridcolor": "white",
            "linecolor": "white",
            "ticks": ""
           },
           "bgcolor": "#E5ECF6",
           "caxis": {
            "gridcolor": "white",
            "linecolor": "white",
            "ticks": ""
           }
          },
          "title": {
           "x": 0.05
          },
          "xaxis": {
           "automargin": true,
           "gridcolor": "white",
           "linecolor": "white",
           "ticks": "",
           "title": {
            "standoff": 15
           },
           "zerolinecolor": "white",
           "zerolinewidth": 2
          },
          "yaxis": {
           "automargin": true,
           "gridcolor": "white",
           "linecolor": "white",
           "ticks": "",
           "title": {
            "standoff": 15
           },
           "zerolinecolor": "white",
           "zerolinewidth": 2
          }
         }
        },
        "xaxis": {
         "anchor": "y",
         "domain": [
          0,
          1
         ]
        },
        "yaxis": {
         "anchor": "x",
         "domain": [
          0,
          1
         ],
         "title": {
          "text": "Price"
         }
        }
       }
      },
      "text/html": [
       "<div>                            <div id=\"965e8c59-61d7-4fdc-92dd-0ebd4ba532a0\" class=\"plotly-graph-div\" style=\"height:525px; width:100%;\"></div>            <script type=\"text/javascript\">                require([\"plotly\"], function(Plotly) {                    window.PLOTLYENV=window.PLOTLYENV || {};                                    if (document.getElementById(\"965e8c59-61d7-4fdc-92dd-0ebd4ba532a0\")) {                    Plotly.newPlot(                        \"965e8c59-61d7-4fdc-92dd-0ebd4ba532a0\",                        [{\"alignmentgroup\":\"True\",\"boxpoints\":\"all\",\"hovertemplate\":\"Price=%{y}<extra></extra>\",\"legendgroup\":\"\",\"marker\":{\"color\":\"#636efa\"},\"name\":\"\",\"notched\":false,\"offsetgroup\":\"\",\"orientation\":\"v\",\"showlegend\":false,\"x0\":\" \",\"xaxis\":\"x\",\"y\":[17.52,7.6,12.62,6.95,15.95,9.64,28.9,21.45,11.65,83.6,20.42,6.33,38.94,14.4,11.8,11.47,106.15,12.5,12.62,63.27,27.2,7.5,11.55,9.99,14.57,14.5,15.5,9.65,16.5,5.95,10.5,6.9,57.42,14.57,34.07,7.8,28.83,8.5,7.5,9.36,14.9,27.2,15.13,9.49,16.38,18.0,13.9,28.95,6.5,8.49,7.53,11.47,11.19,8.64,19.3,13.15,6.95,13.95,6.34,125.74,9.9,16.27,14.57,10.71,6.99,239.0,11.47,11.9,9.65,15.49,12.19,67.26,9.99,7.32,14.57,13.55,6.95,8.28,63.15,40.81,13.82,70.72,58.0,21.89,9.9,6.33,7.27,11.56,8.72,109.0,14.13,27.2,55.0,10.23,193.01,12.5,27.2,10.5,9.5,63.39,8.45,57.42,19.9,6.5,6.2,14.53,15.13,6.54,12.94,16.48,15.69,9.95,11.9,25.13,18.41,15.9,14.9,79.34,121.75,23.4,16.95,16.9,41.9,18.52,40.09,14.5,8.19,14.9,14.5,7.66,12.25,26.5,9.05,21.15,9.7,6.77,9.5,49.0,6.73,16.95,9.79,20.54,12.14,7.5,14.89,10.51,8.49,18.42,30.81,10.66,6.84,27.96,13.5,11.5,18.9,36.56,4.25,20.49,12.19,5.43,10.5,8.69,6.9,10.62,8.65,6.83,25.35,7.6,13.5,28.9,14.57,15.19,6.35,19.3,8.72,10.5,6.75,8.5,5.5,21.05,21.45,4.85,15.79,6.77,11.83,15.39,13.55,8.45,13.5,16.32,173.63,15.79,78.49,15.26,6.5,22.22,8.69,13.55,7.89,92.0,8.5,10.5,11.95,6.33,7.9,28.95,13.49,12.19,6.5,6.5,52.46,18.9,6.09,6.33,29.95,15.3,5.54,5.33,12.65,131.6,6.03,31.19,6.33,8.28,10.89,6.9,9.45,12.6,10.15,4.89,9.49,9.5,8.44,8.5,5.33,12.62,6.34,9.7,5.65,6.53,14.5,8.49,7.66,9.64,8.9,13.55,14.5,21.45,21.45,77.88,8.45,10.95,7.89,21.45,9.5,24.2,83.6,35.09,9.7,9.5,7.32,8.72,67.26,6.33,9.65,6.77,12.95,12.6,9.4,112.1,6.75,14.13,8.45,53.5,43.99,6.0,10.5,13.89,16.17,7.27,46.34,4.76,38.02,46.65,12.25,22.9,9.46,9.39,10.15,6.89,13.49,20.5,7.94,6.75,46.6,8.5,16.5,8.9,8.89,16.74,6.75,7.9,14.5,84.09,8.99,16.09,15.78,7.63,8.63,13.9,7.89,87.64,53.61,77.01,13.95,56.95,9.5,38.94,8.9,20.54,14.5,8.72,15.98,10.43,6.95,76.76],\"y0\":\" \",\"yaxis\":\"y\",\"type\":\"box\"}],                        {\"template\":{\"data\":{\"histogram2dcontour\":[{\"type\":\"histogram2dcontour\",\"colorbar\":{\"outlinewidth\":0,\"ticks\":\"\"},\"colorscale\":[[0.0,\"#0d0887\"],[0.1111111111111111,\"#46039f\"],[0.2222222222222222,\"#7201a8\"],[0.3333333333333333,\"#9c179e\"],[0.4444444444444444,\"#bd3786\"],[0.5555555555555556,\"#d8576b\"],[0.6666666666666666,\"#ed7953\"],[0.7777777777777778,\"#fb9f3a\"],[0.8888888888888888,\"#fdca26\"],[1.0,\"#f0f921\"]]}],\"choropleth\":[{\"type\":\"choropleth\",\"colorbar\":{\"outlinewidth\":0,\"ticks\":\"\"}}],\"histogram2d\":[{\"type\":\"histogram2d\",\"colorbar\":{\"outlinewidth\":0,\"ticks\":\"\"},\"colorscale\":[[0.0,\"#0d0887\"],[0.1111111111111111,\"#46039f\"],[0.2222222222222222,\"#7201a8\"],[0.3333333333333333,\"#9c179e\"],[0.4444444444444444,\"#bd3786\"],[0.5555555555555556,\"#d8576b\"],[0.6666666666666666,\"#ed7953\"],[0.7777777777777778,\"#fb9f3a\"],[0.8888888888888888,\"#fdca26\"],[1.0,\"#f0f921\"]]}],\"heatmap\":[{\"type\":\"heatmap\",\"colorbar\":{\"outlinewidth\":0,\"ticks\":\"\"},\"colorscale\":[[0.0,\"#0d0887\"],[0.1111111111111111,\"#46039f\"],[0.2222222222222222,\"#7201a8\"],[0.3333333333333333,\"#9c179e\"],[0.4444444444444444,\"#bd3786\"],[0.5555555555555556,\"#d8576b\"],[0.6666666666666666,\"#ed7953\"],[0.7777777777777778,\"#fb9f3a\"],[0.8888888888888888,\"#fdca26\"],[1.0,\"#f0f921\"]]}],\"heatmapgl\":[{\"type\":\"heatmapgl\",\"colorbar\":{\"outlinewidth\":0,\"ticks\":\"\"},\"colorscale\":[[0.0,\"#0d0887\"],[0.1111111111111111,\"#46039f\"],[0.2222222222222222,\"#7201a8\"],[0.3333333333333333,\"#9c179e\"],[0.4444444444444444,\"#bd3786\"],[0.5555555555555556,\"#d8576b\"],[0.6666666666666666,\"#ed7953\"],[0.7777777777777778,\"#fb9f3a\"],[0.8888888888888888,\"#fdca26\"],[1.0,\"#f0f921\"]]}],\"contourcarpet\":[{\"type\":\"contourcarpet\",\"colorbar\":{\"outlinewidth\":0,\"ticks\":\"\"}}],\"contour\":[{\"type\":\"contour\",\"colorbar\":{\"outlinewidth\":0,\"ticks\":\"\"},\"colorscale\":[[0.0,\"#0d0887\"],[0.1111111111111111,\"#46039f\"],[0.2222222222222222,\"#7201a8\"],[0.3333333333333333,\"#9c179e\"],[0.4444444444444444,\"#bd3786\"],[0.5555555555555556,\"#d8576b\"],[0.6666666666666666,\"#ed7953\"],[0.7777777777777778,\"#fb9f3a\"],[0.8888888888888888,\"#fdca26\"],[1.0,\"#f0f921\"]]}],\"surface\":[{\"type\":\"surface\",\"colorbar\":{\"outlinewidth\":0,\"ticks\":\"\"},\"colorscale\":[[0.0,\"#0d0887\"],[0.1111111111111111,\"#46039f\"],[0.2222222222222222,\"#7201a8\"],[0.3333333333333333,\"#9c179e\"],[0.4444444444444444,\"#bd3786\"],[0.5555555555555556,\"#d8576b\"],[0.6666666666666666,\"#ed7953\"],[0.7777777777777778,\"#fb9f3a\"],[0.8888888888888888,\"#fdca26\"],[1.0,\"#f0f921\"]]}],\"mesh3d\":[{\"type\":\"mesh3d\",\"colorbar\":{\"outlinewidth\":0,\"ticks\":\"\"}}],\"scatter\":[{\"fillpattern\":{\"fillmode\":\"overlay\",\"size\":10,\"solidity\":0.2},\"type\":\"scatter\"}],\"parcoords\":[{\"type\":\"parcoords\",\"line\":{\"colorbar\":{\"outlinewidth\":0,\"ticks\":\"\"}}}],\"scatterpolargl\":[{\"type\":\"scatterpolargl\",\"marker\":{\"colorbar\":{\"outlinewidth\":0,\"ticks\":\"\"}}}],\"bar\":[{\"error_x\":{\"color\":\"#2a3f5f\"},\"error_y\":{\"color\":\"#2a3f5f\"},\"marker\":{\"line\":{\"color\":\"#E5ECF6\",\"width\":0.5},\"pattern\":{\"fillmode\":\"overlay\",\"size\":10,\"solidity\":0.2}},\"type\":\"bar\"}],\"scattergeo\":[{\"type\":\"scattergeo\",\"marker\":{\"colorbar\":{\"outlinewidth\":0,\"ticks\":\"\"}}}],\"scatterpolar\":[{\"type\":\"scatterpolar\",\"marker\":{\"colorbar\":{\"outlinewidth\":0,\"ticks\":\"\"}}}],\"histogram\":[{\"marker\":{\"pattern\":{\"fillmode\":\"overlay\",\"size\":10,\"solidity\":0.2}},\"type\":\"histogram\"}],\"scattergl\":[{\"type\":\"scattergl\",\"marker\":{\"colorbar\":{\"outlinewidth\":0,\"ticks\":\"\"}}}],\"scatter3d\":[{\"type\":\"scatter3d\",\"line\":{\"colorbar\":{\"outlinewidth\":0,\"ticks\":\"\"}},\"marker\":{\"colorbar\":{\"outlinewidth\":0,\"ticks\":\"\"}}}],\"scattermapbox\":[{\"type\":\"scattermapbox\",\"marker\":{\"colorbar\":{\"outlinewidth\":0,\"ticks\":\"\"}}}],\"scatterternary\":[{\"type\":\"scatterternary\",\"marker\":{\"colorbar\":{\"outlinewidth\":0,\"ticks\":\"\"}}}],\"scattercarpet\":[{\"type\":\"scattercarpet\",\"marker\":{\"colorbar\":{\"outlinewidth\":0,\"ticks\":\"\"}}}],\"carpet\":[{\"aaxis\":{\"endlinecolor\":\"#2a3f5f\",\"gridcolor\":\"white\",\"linecolor\":\"white\",\"minorgridcolor\":\"white\",\"startlinecolor\":\"#2a3f5f\"},\"baxis\":{\"endlinecolor\":\"#2a3f5f\",\"gridcolor\":\"white\",\"linecolor\":\"white\",\"minorgridcolor\":\"white\",\"startlinecolor\":\"#2a3f5f\"},\"type\":\"carpet\"}],\"table\":[{\"cells\":{\"fill\":{\"color\":\"#EBF0F8\"},\"line\":{\"color\":\"white\"}},\"header\":{\"fill\":{\"color\":\"#C8D4E3\"},\"line\":{\"color\":\"white\"}},\"type\":\"table\"}],\"barpolar\":[{\"marker\":{\"line\":{\"color\":\"#E5ECF6\",\"width\":0.5},\"pattern\":{\"fillmode\":\"overlay\",\"size\":10,\"solidity\":0.2}},\"type\":\"barpolar\"}],\"pie\":[{\"automargin\":true,\"type\":\"pie\"}]},\"layout\":{\"autotypenumbers\":\"strict\",\"colorway\":[\"#636efa\",\"#EF553B\",\"#00cc96\",\"#ab63fa\",\"#FFA15A\",\"#19d3f3\",\"#FF6692\",\"#B6E880\",\"#FF97FF\",\"#FECB52\"],\"font\":{\"color\":\"#2a3f5f\"},\"hovermode\":\"closest\",\"hoverlabel\":{\"align\":\"left\"},\"paper_bgcolor\":\"white\",\"plot_bgcolor\":\"#E5ECF6\",\"polar\":{\"bgcolor\":\"#E5ECF6\",\"angularaxis\":{\"gridcolor\":\"white\",\"linecolor\":\"white\",\"ticks\":\"\"},\"radialaxis\":{\"gridcolor\":\"white\",\"linecolor\":\"white\",\"ticks\":\"\"}},\"ternary\":{\"bgcolor\":\"#E5ECF6\",\"aaxis\":{\"gridcolor\":\"white\",\"linecolor\":\"white\",\"ticks\":\"\"},\"baxis\":{\"gridcolor\":\"white\",\"linecolor\":\"white\",\"ticks\":\"\"},\"caxis\":{\"gridcolor\":\"white\",\"linecolor\":\"white\",\"ticks\":\"\"}},\"coloraxis\":{\"colorbar\":{\"outlinewidth\":0,\"ticks\":\"\"}},\"colorscale\":{\"sequential\":[[0.0,\"#0d0887\"],[0.1111111111111111,\"#46039f\"],[0.2222222222222222,\"#7201a8\"],[0.3333333333333333,\"#9c179e\"],[0.4444444444444444,\"#bd3786\"],[0.5555555555555556,\"#d8576b\"],[0.6666666666666666,\"#ed7953\"],[0.7777777777777778,\"#fb9f3a\"],[0.8888888888888888,\"#fdca26\"],[1.0,\"#f0f921\"]],\"sequentialminus\":[[0.0,\"#0d0887\"],[0.1111111111111111,\"#46039f\"],[0.2222222222222222,\"#7201a8\"],[0.3333333333333333,\"#9c179e\"],[0.4444444444444444,\"#bd3786\"],[0.5555555555555556,\"#d8576b\"],[0.6666666666666666,\"#ed7953\"],[0.7777777777777778,\"#fb9f3a\"],[0.8888888888888888,\"#fdca26\"],[1.0,\"#f0f921\"]],\"diverging\":[[0,\"#8e0152\"],[0.1,\"#c51b7d\"],[0.2,\"#de77ae\"],[0.3,\"#f1b6da\"],[0.4,\"#fde0ef\"],[0.5,\"#f7f7f7\"],[0.6,\"#e6f5d0\"],[0.7,\"#b8e186\"],[0.8,\"#7fbc41\"],[0.9,\"#4d9221\"],[1,\"#276419\"]]},\"xaxis\":{\"gridcolor\":\"white\",\"linecolor\":\"white\",\"ticks\":\"\",\"title\":{\"standoff\":15},\"zerolinecolor\":\"white\",\"automargin\":true,\"zerolinewidth\":2},\"yaxis\":{\"gridcolor\":\"white\",\"linecolor\":\"white\",\"ticks\":\"\",\"title\":{\"standoff\":15},\"zerolinecolor\":\"white\",\"automargin\":true,\"zerolinewidth\":2},\"scene\":{\"xaxis\":{\"backgroundcolor\":\"#E5ECF6\",\"gridcolor\":\"white\",\"linecolor\":\"white\",\"showbackground\":true,\"ticks\":\"\",\"zerolinecolor\":\"white\",\"gridwidth\":2},\"yaxis\":{\"backgroundcolor\":\"#E5ECF6\",\"gridcolor\":\"white\",\"linecolor\":\"white\",\"showbackground\":true,\"ticks\":\"\",\"zerolinecolor\":\"white\",\"gridwidth\":2},\"zaxis\":{\"backgroundcolor\":\"#E5ECF6\",\"gridcolor\":\"white\",\"linecolor\":\"white\",\"showbackground\":true,\"ticks\":\"\",\"zerolinecolor\":\"white\",\"gridwidth\":2}},\"shapedefaults\":{\"line\":{\"color\":\"#2a3f5f\"}},\"annotationdefaults\":{\"arrowcolor\":\"#2a3f5f\",\"arrowhead\":0,\"arrowwidth\":1},\"geo\":{\"bgcolor\":\"white\",\"landcolor\":\"#E5ECF6\",\"subunitcolor\":\"white\",\"showland\":true,\"showlakes\":true,\"lakecolor\":\"white\"},\"title\":{\"x\":0.05},\"mapbox\":{\"style\":\"light\"}}},\"xaxis\":{\"anchor\":\"y\",\"domain\":[0.0,1.0]},\"yaxis\":{\"anchor\":\"x\",\"domain\":[0.0,1.0],\"title\":{\"text\":\"Price\"}},\"legend\":{\"tracegroupgap\":0},\"margin\":{\"t\":60},\"boxmode\":\"group\"},                        {\"responsive\": true}                    ).then(function(){\n",
       "                            \n",
       "var gd = document.getElementById('965e8c59-61d7-4fdc-92dd-0ebd4ba532a0');\n",
       "var x = new MutationObserver(function (mutations, observer) {{\n",
       "        var display = window.getComputedStyle(gd).display;\n",
       "        if (!display || display === 'none') {{\n",
       "            console.log([gd, 'removed!']);\n",
       "            Plotly.purge(gd);\n",
       "            observer.disconnect();\n",
       "        }}\n",
       "}});\n",
       "\n",
       "// Listen for the removal of the full notebook cells\n",
       "var notebookContainer = gd.closest('#notebook-container');\n",
       "if (notebookContainer) {{\n",
       "    x.observe(notebookContainer, {childList: true});\n",
       "}}\n",
       "\n",
       "// Listen for the clearing of the current output cell\n",
       "var outputEl = gd.closest('.output');\n",
       "if (outputEl) {{\n",
       "    x.observe(outputEl, {childList: true});\n",
       "}}\n",
       "\n",
       "                        })                };                });            </script>        </div>"
      ]
     },
     "metadata": {},
     "output_type": "display_data"
    }
   ],
   "source": [
    "px.box(df_chile, y=df_chile['Price'],points='all')"
   ]
  },
  {
   "cell_type": "code",
   "execution_count": null,
   "metadata": {},
   "outputs": [],
   "source": []
  }
 ],
 "metadata": {
  "kernelspec": {
   "display_name": "Python 3",
   "language": "python",
   "name": "python3"
  },
  "language_info": {
   "codemirror_mode": {
    "name": "ipython",
    "version": 3
   },
   "file_extension": ".py",
   "mimetype": "text/x-python",
   "name": "python",
   "nbconvert_exporter": "python",
   "pygments_lexer": "ipython3",
   "version": "3.10.6"
  }
 },
 "nbformat": 4,
 "nbformat_minor": 2
}
